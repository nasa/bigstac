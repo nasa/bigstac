{
 "cells": [
  {
   "cell_type": "markdown",
   "metadata": {},
   "source": [
    "# Map row group spatial metadata/statistics"
   ]
  },
  {
   "cell_type": "code",
   "execution_count": 53,
   "metadata": {},
   "outputs": [],
   "source": [
    "import sys\n",
    "from shapely import wkb\n",
    "import geopandas as gpd\n",
    "import pyarrow.parquet as pq\n",
    "import lonboard # these won't render on GitHub\n",
    "\n",
    "sys.path.append('../analyze')\n",
    "import info"
   ]
  },
  {
   "cell_type": "code",
   "execution_count": 100,
   "metadata": {},
   "outputs": [],
   "source": [
    "def get_parquet_row_count(file_path):\n",
    "    # Open the Parquet file\n",
    "    parquet_file = pq.ParquetFile(file_path)\n",
    "\n",
    "    # Get the number of row groups\n",
    "    num_row_groups = parquet_file.num_row_groups\n",
    "\n",
    "    # Initialize total row count\n",
    "    total_rows = 0\n",
    "\n",
    "    # Iterate through row groups and sum up the row counts\n",
    "    for i in range(num_row_groups):\n",
    "        row_group_rows = get_parquet_row_group_row_count(parquet_file, i)\n",
    "        total_rows += row_group_rows\n",
    "\n",
    "    return total_rows\n",
    "\n",
    "def get_parquet_row_group_row_count(parquet_file, row_group_id):\n",
    "    first_column_name = parquet_file.schema[0].name\n",
    "\n",
    "    num_rows = parquet_file.read_row_group(row_group_id, columns=first_column_name).num_rows\n",
    "\n",
    "    return num_rows"
   ]
  },
  {
   "cell_type": "code",
   "execution_count": 101,
   "metadata": {},
   "outputs": [
    {
     "name": "stdout",
     "output_type": "stream",
     "text": [
      "Rows in parquet file: 964695\n"
     ]
    }
   ],
   "source": [
    "pq_path = '../test_lpcloud_data/single_file/lpcloud_starttime.parquet'\n",
    "print(f'Rows in parquet file: {get_parquet_row_count(pq_path)}')"
   ]
  },
  {
   "cell_type": "code",
   "execution_count": 94,
   "metadata": {},
   "outputs": [],
   "source": [
    "group_stats = info.get_parquet_group_stats(pq_path, False)"
   ]
  },
  {
   "cell_type": "markdown",
   "metadata": {},
   "source": [
    "Example of min and max geometry metadata for a row group"
   ]
  },
  {
   "cell_type": "code",
   "execution_count": 95,
   "metadata": {},
   "outputs": [
    {
     "name": "stdout",
     "output_type": "stream",
     "text": [
      "POLYGON ((-180 -90, 180 -90, 180 90, -180 90, -180 -90))\n",
      "POLYGON ((-127.00027778 57.99972222, -125.99972222 57.99972222, -125.99972222 59.00027778, -127.00027778 59.00027778, -127.00027778 57.99972222))\n"
     ]
    }
   ],
   "source": [
    "gid = 0\n",
    "min_shape = wkb.loads(group_stats[f'Group_{gid}']['geometry']['min'])\n",
    "max_shape = wkb.loads(group_stats[f'Group_{gid}']['geometry']['max'])\n",
    "print(str(min_shape))\n",
    "print(str(max_shape))"
   ]
  },
  {
   "cell_type": "markdown",
   "metadata": {},
   "source": [
    "Collect min or max geometry metadata for all row groups into a geodataframe"
   ]
  },
  {
   "cell_type": "code",
   "execution_count": 96,
   "metadata": {},
   "outputs": [],
   "source": [
    "geometries = []\n",
    "group_ids = []\n",
    "\n",
    "for gid in range(0,len(group_stats)):\n",
    "  this_stats = group_stats[f'Group_{gid}']['geometry']\n",
    "  geometries.append(wkb.loads(this_stats['min']))\n",
    "  group_ids.append(gid)"
   ]
  },
  {
   "cell_type": "code",
   "execution_count": 97,
   "metadata": {},
   "outputs": [
    {
     "data": {
      "text/html": [
       "<div>\n",
       "<style scoped>\n",
       "    .dataframe tbody tr th:only-of-type {\n",
       "        vertical-align: middle;\n",
       "    }\n",
       "\n",
       "    .dataframe tbody tr th {\n",
       "        vertical-align: top;\n",
       "    }\n",
       "\n",
       "    .dataframe thead th {\n",
       "        text-align: right;\n",
       "    }\n",
       "</style>\n",
       "<table border=\"1\" class=\"dataframe\">\n",
       "  <thead>\n",
       "    <tr style=\"text-align: right;\">\n",
       "      <th></th>\n",
       "      <th>group_id</th>\n",
       "      <th>geometry</th>\n",
       "    </tr>\n",
       "  </thead>\n",
       "  <tbody>\n",
       "    <tr>\n",
       "      <th>0</th>\n",
       "      <td>0</td>\n",
       "      <td>POLYGON ((-180 -90, 180 -90, 180 90, -180 90, ...</td>\n",
       "    </tr>\n",
       "    <tr>\n",
       "      <th>1</th>\n",
       "      <td>1</td>\n",
       "      <td>POLYGON ((-108.64062 40.66909, -102.50259 40.6...</td>\n",
       "    </tr>\n",
       "    <tr>\n",
       "      <th>2</th>\n",
       "      <td>2</td>\n",
       "      <td>POLYGON ((6 10.96574, 10.83852 10.96574, 10.83...</td>\n",
       "    </tr>\n",
       "    <tr>\n",
       "      <th>3</th>\n",
       "      <td>3</td>\n",
       "      <td>POLYGON ((-100.21875 14.07468, -94.92781 14.07...</td>\n",
       "    </tr>\n",
       "    <tr>\n",
       "      <th>4</th>\n",
       "      <td>4</td>\n",
       "      <td>POLYGON ((-117.65625 24.36216, -112.35619 24.3...</td>\n",
       "    </tr>\n",
       "    <tr>\n",
       "      <th>5</th>\n",
       "      <td>5</td>\n",
       "      <td>POLYGON ((-180 -90, 180 -90, 180 90, -180 90, ...</td>\n",
       "    </tr>\n",
       "    <tr>\n",
       "      <th>6</th>\n",
       "      <td>6</td>\n",
       "      <td>POLYGON ((-180 -90, 180 -90, 180 90, -180 90, ...</td>\n",
       "    </tr>\n",
       "    <tr>\n",
       "      <th>7</th>\n",
       "      <td>7</td>\n",
       "      <td>POLYGON ((-180 -90, 180 -90, 180 90, -180 90, ...</td>\n",
       "    </tr>\n",
       "  </tbody>\n",
       "</table>\n",
       "</div>"
      ],
      "text/plain": [
       "   group_id                                           geometry\n",
       "0         0  POLYGON ((-180 -90, 180 -90, 180 90, -180 90, ...\n",
       "1         1  POLYGON ((-108.64062 40.66909, -102.50259 40.6...\n",
       "2         2  POLYGON ((6 10.96574, 10.83852 10.96574, 10.83...\n",
       "3         3  POLYGON ((-100.21875 14.07468, -94.92781 14.07...\n",
       "4         4  POLYGON ((-117.65625 24.36216, -112.35619 24.3...\n",
       "5         5  POLYGON ((-180 -90, 180 -90, 180 90, -180 90, ...\n",
       "6         6  POLYGON ((-180 -90, 180 -90, 180 90, -180 90, ...\n",
       "7         7  POLYGON ((-180 -90, 180 -90, 180 90, -180 90, ..."
      ]
     },
     "execution_count": 97,
     "metadata": {},
     "output_type": "execute_result"
    }
   ],
   "source": [
    "rg_gdf = gpd.GeoDataFrame({'group_id': group_ids, 'geometry': geometries}, crs = \"EPSG:4326\")\n",
    "rg_gdf"
   ]
  },
  {
   "cell_type": "markdown",
   "metadata": {},
   "source": [
    "Global granules make visualization difficult. Remove them from the granule data, then check the row group metadata of that new file.\n",
    "\n",
    "Note that doing this in Geopandas may run into memory constraints for larger files. Solutions would include batching the reading & writing in Geopandas, splitting the task using dask-geopandas, or doing the operation within DuckDB."
   ]
  },
  {
   "cell_type": "code",
   "execution_count": 98,
   "metadata": {},
   "outputs": [
    {
     "data": {
      "text/plain": [
       "'POLYGON ((-180 -90, 180 -90, 180 90, -180 90, -180 -90))'"
      ]
     },
     "execution_count": 98,
     "metadata": {},
     "output_type": "execute_result"
    }
   ],
   "source": [
    "# A geometry object with global extent we can use for excluding matches\n",
    "str(geometries[7])"
   ]
  },
  {
   "cell_type": "code",
   "execution_count": 69,
   "metadata": {},
   "outputs": [],
   "source": [
    "# This will read the entire parquet file into memory\n",
    "pq_gdf = gpd.read_parquet(pq_path)"
   ]
  },
  {
   "cell_type": "code",
   "execution_count": 70,
   "metadata": {},
   "outputs": [],
   "source": [
    "# Create a new geodataframe that excludes global granules\n",
    "pq_gdf_sub = pq_gdf[pq_gdf.geometry != geometries[7]]"
   ]
  },
  {
   "cell_type": "code",
   "execution_count": 71,
   "metadata": {},
   "outputs": [
    {
     "name": "stdout",
     "output_type": "stream",
     "text": [
      "(964695, 4)\n",
      "(833018, 4)\n"
     ]
    }
   ],
   "source": [
    "# Compare table dimensions before and after excluding global granules\n",
    "print(pq_gdf.shape)\n",
    "print(pq_gdf_sub.shape)"
   ]
  },
  {
   "cell_type": "code",
   "execution_count": 76,
   "metadata": {},
   "outputs": [],
   "source": [
    "out_pq_path = '../test_lpcloud_data/single_file/lpcloud_starttime_sub.parquet'\n",
    "row_group_size = get_parquet_row_group_row_count(pq.ParquetFile(pq_path),1)\n",
    "pq_gdf_sub.to_parquet(out_pq_path, row_group_size=row_group_size)"
   ]
  },
  {
   "cell_type": "markdown",
   "metadata": {},
   "source": [
    "Run group stats again, this time on the file that excludes global granules"
   ]
  },
  {
   "cell_type": "code",
   "execution_count": 107,
   "metadata": {},
   "outputs": [],
   "source": [
    "group_stats = info.get_parquet_group_stats(out_pq_path, False)\n",
    "geometries = []\n",
    "group_ids = []\n",
    "\n",
    "for gid in range(0,len(group_stats)):\n",
    "  this_stats = group_stats[f'Group_{gid}']['geometry']\n",
    "  geometries.append(wkb.loads(this_stats['min'])) # also try max\n",
    "  group_ids.append(gid)"
   ]
  },
  {
   "cell_type": "markdown",
   "metadata": {},
   "source": [
    "Collect all the (minimum) bounding boxes into a geodataframe"
   ]
  },
  {
   "cell_type": "code",
   "execution_count": 108,
   "metadata": {},
   "outputs": [
    {
     "data": {
      "text/html": [
       "<div>\n",
       "<style scoped>\n",
       "    .dataframe tbody tr th:only-of-type {\n",
       "        vertical-align: middle;\n",
       "    }\n",
       "\n",
       "    .dataframe tbody tr th {\n",
       "        vertical-align: top;\n",
       "    }\n",
       "\n",
       "    .dataframe thead th {\n",
       "        text-align: right;\n",
       "    }\n",
       "</style>\n",
       "<table border=\"1\" class=\"dataframe\">\n",
       "  <thead>\n",
       "    <tr style=\"text-align: right;\">\n",
       "      <th></th>\n",
       "      <th>group_id</th>\n",
       "      <th>geometry</th>\n",
       "    </tr>\n",
       "  </thead>\n",
       "  <tbody>\n",
       "    <tr>\n",
       "      <th>0</th>\n",
       "      <td>0</td>\n",
       "      <td>POLYGON ((34.74051 45.5806, 40.95589 45.5806, ...</td>\n",
       "    </tr>\n",
       "    <tr>\n",
       "      <th>1</th>\n",
       "      <td>1</td>\n",
       "      <td>POLYGON ((103.33645 29.62608, 109.33861 29.626...</td>\n",
       "    </tr>\n",
       "    <tr>\n",
       "      <th>2</th>\n",
       "      <td>2</td>\n",
       "      <td>POLYGON ((-98.90105 35.97371, -92.49903 35.973...</td>\n",
       "    </tr>\n",
       "    <tr>\n",
       "      <th>3</th>\n",
       "      <td>3</td>\n",
       "      <td>POLYGON ((80.56327 12.43794, 85.79968 12.43794...</td>\n",
       "    </tr>\n",
       "    <tr>\n",
       "      <th>4</th>\n",
       "      <td>4</td>\n",
       "      <td>POLYGON ((-62.59673 -17.56367, -57.36228 -17.5...</td>\n",
       "    </tr>\n",
       "    <tr>\n",
       "      <th>5</th>\n",
       "      <td>5</td>\n",
       "      <td>POLYGON ((112.45622 -21.77249, 117.79999 -21.7...</td>\n",
       "    </tr>\n",
       "    <tr>\n",
       "      <th>6</th>\n",
       "      <td>6</td>\n",
       "      <td>POLYGON ((-65.70419 -21.98913, -60.31323 -21.9...</td>\n",
       "    </tr>\n",
       "  </tbody>\n",
       "</table>\n",
       "</div>"
      ],
      "text/plain": [
       "   group_id                                           geometry\n",
       "0         0  POLYGON ((34.74051 45.5806, 40.95589 45.5806, ...\n",
       "1         1  POLYGON ((103.33645 29.62608, 109.33861 29.626...\n",
       "2         2  POLYGON ((-98.90105 35.97371, -92.49903 35.973...\n",
       "3         3  POLYGON ((80.56327 12.43794, 85.79968 12.43794...\n",
       "4         4  POLYGON ((-62.59673 -17.56367, -57.36228 -17.5...\n",
       "5         5  POLYGON ((112.45622 -21.77249, 117.79999 -21.7...\n",
       "6         6  POLYGON ((-65.70419 -21.98913, -60.31323 -21.9..."
      ]
     },
     "execution_count": 108,
     "metadata": {},
     "output_type": "execute_result"
    }
   ],
   "source": [
    "rg_gdf_aub = gpd.GeoDataFrame({'group_id': group_ids, 'geometry': geometries}, crs = \"EPSG:4326\")\n",
    "rg_gdf_aub"
   ]
  },
  {
   "cell_type": "markdown",
   "metadata": {},
   "source": [
    "TODO:  \n",
    "- visualize both min and max boxes\n",
    "- switch to static maps"
   ]
  },
  {
   "cell_type": "code",
   "execution_count": 106,
   "metadata": {},
   "outputs": [
    {
     "data": {
      "application/vnd.jupyter.widget-view+json": {
       "model_id": "058ca407dd2d424f936222ebdf612592",
       "version_major": 2,
       "version_minor": 1
      },
      "text/plain": [
       "Map(basemap_style=<CartoBasemap.DarkMatter: 'https://basemaps.cartocdn.com/gl/dark-matter-gl-style/style.json'…"
      ]
     },
     "execution_count": 106,
     "metadata": {},
     "output_type": "execute_result"
    }
   ],
   "source": [
    "lonboard.viz(rg_gdf_aub)"
   ]
  }
 ],
 "metadata": {
  "kernelspec": {
   "display_name": "bigstac",
   "language": "python",
   "name": "python3"
  },
  "language_info": {
   "codemirror_mode": {
    "name": "ipython",
    "version": 3
   },
   "file_extension": ".py",
   "mimetype": "text/x-python",
   "name": "python",
   "nbconvert_exporter": "python",
   "pygments_lexer": "ipython3",
   "version": "3.12.3"
  }
 },
 "nbformat": 4,
 "nbformat_minor": 2
}
