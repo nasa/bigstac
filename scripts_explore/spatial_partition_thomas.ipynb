{
 "cells": [
  {
   "cell_type": "code",
   "execution_count": null,
   "metadata": {},
   "outputs": [],
   "source": [
    "import geopandas\n",
    "import dask_geopandas\n",
    "import matplotlib.pyplot as plt"
   ]
  },
  {
   "cell_type": "code",
   "execution_count": null,
   "metadata": {},
   "outputs": [],
   "source": [
    "path = \"https://geodata.ucdavis.edu/gadm/gadm4.0/gpkg/gadm40_USA.gpkg\"\n",
    "path = \"~/src/project/cmr-bigstac-prototype/bigstac/scripts_explore/gadm40_USA.gpkg\"\n",
    "\n",
    "usa = geopandas.read_file(path, layer=\"ADM_1\")\n",
    "usa.head()"
   ]
  },
  {
   "cell_type": "code",
   "execution_count": null,
   "metadata": {},
   "outputs": [],
   "source": [
    "usa = usa[[\"NAME_1\", \"geometry\"]].rename(columns={\"NAME_1\": \"State\"})\n",
    "usa.info()"
   ]
  },
  {
   "cell_type": "code",
   "execution_count": null,
   "metadata": {},
   "outputs": [],
   "source": [
    "usa.plot()"
   ]
  },
  {
   "cell_type": "code",
   "execution_count": null,
   "metadata": {},
   "outputs": [],
   "source": [
    "us_cont = usa.cx[-150:-50, 20:50]\n",
    "us_cont.info()"
   ]
  },
  {
   "cell_type": "code",
   "execution_count": null,
   "metadata": {},
   "outputs": [],
   "source": [
    "us_cont.plot(facecolor=\"none\", linewidth=0.5, edgecolor=\"red\")"
   ]
  },
  {
   "cell_type": "code",
   "execution_count": null,
   "metadata": {},
   "outputs": [],
   "source": [
    "d_gdf = dask_geopandas.from_geopandas(us_cont, npartitions=4)\n",
    "d_gdf"
   ]
  },
  {
   "cell_type": "code",
   "execution_count": null,
   "metadata": {},
   "outputs": [],
   "source": [
    "d_gdf.calculate_spatial_partitions() # convex hull\n",
    "d_gdf.spatial_partitions"
   ]
  },
  {
   "cell_type": "code",
   "execution_count": null,
   "metadata": {},
   "outputs": [],
   "source": [
    "fig, ax = plt.subplots(1,1, figsize=(12,6))\n",
    "us_cont.plot(ax=ax)\n",
    "d_gdf.spatial_partitions.plot(ax=ax, cmap=\"tab20\", alpha=0.5)\n",
    "ax.set_axis_off()\n",
    "plt.show()"
   ]
  },
  {
   "cell_type": "markdown",
   "metadata": {},
   "source": [
    "Now try the spatial sorting methods"
   ]
  },
  {
   "cell_type": "code",
   "execution_count": null,
   "metadata": {},
   "outputs": [],
   "source": [
    "hilbert = d_gdf.spatial_shuffle(by=\"hilbert\")\n",
    "morton = d_gdf.spatial_shuffle(by=\"morton\")\n",
    "geohash = d_gdf.spatial_shuffle(by=\"geohash\")"
   ]
  },
  {
   "cell_type": "code",
   "execution_count": null,
   "metadata": {},
   "outputs": [],
   "source": [
    "fig, axes = plt.subplots(nrows=1,ncols=3, figsize=(25,12))\n",
    "ax1, ax2, ax3 = axes.flatten()\n",
    "\n",
    "for ax in axes:\n",
    "    us_cont.plot(ax=ax)\n",
    "\n",
    "hilbert.spatial_partitions.plot(ax=ax1, cmap=\"tab20\", alpha=0.5)\n",
    "morton.spatial_partitions.plot(ax=ax2, cmap=\"tab20\", alpha=0.5)\n",
    "geohash.spatial_partitions.plot(ax=ax3, cmap=\"tab20\", alpha=0.5)\n",
    "\n",
    "[axi.set_axis_off() for axi in axes.ravel()]\n",
    "\n",
    "ax1.set_title(\"Hilbert\", size=16)\n",
    "ax2.set_title(\"Morton\", size=16)\n",
    "ax3.set_title(\"Geohash\", size=16)\n",
    "\n",
    "plt.show()"
   ]
  },
  {
   "cell_type": "code",
   "execution_count": null,
   "metadata": {},
   "outputs": [],
   "source": [
    "hilbert20 = d_gdf.spatial_shuffle(by=\"hilbert\", npartitions=20)\n",
    "geohash20 = d_gdf.spatial_shuffle(by=\"geohash\", npartitions=20)"
   ]
  },
  {
   "cell_type": "code",
   "execution_count": null,
   "metadata": {},
   "outputs": [],
   "source": [
    "fig, axes = plt.subplots(nrows=2,ncols=3, figsize=(25,20))\n",
    "ax1, ax2, ax3, ax4, ax5 = axes[0, 0], axes[0, 1], axes[0, 2], axes[1, 0], axis[1, 1]\n",
    "\n",
    "for ax in axes:\n",
    "    us_cont.plot(ax=ax)\n",
    "\n",
    "#d_gdf.spatial_partitions.plot(ax=ax1, cmap=\"tab20\", alpha=0.5)\n",
    "hilbert.spatial_partitions.plot(ax=ax2, cmap=\"tab20\", alpha=0.5)\n",
    "hilbert20.spatial_partitions.plot(ax=ax3, cmap=\"tab20\", alpha=0.5)\n",
    "geohash20.spatial_partitions.plot(ax=ax4, cmap=\"tab20\", alpha=0.5)\n",
    "\n",
    "selected = geohash20.spatial_partitions[geohash20.spatial_partitions.index == 1]\n",
    "selected.plot(ax=ax4, alpha=0.5, color=\"red\")\n",
    "\n",
    "selected = geohash20.spatial_partitions[geohash20.spatial_partitions.index == 3]\n",
    "selected.plot(ax=ax5, alpha=0.5, color=\"green\")\n",
    "\n",
    "[axi.set_axis_off() for axi in axes.ravel()]\n",
    "\n",
    "ax1.set_title(\"No spatial shuffle, with 4 partitions\", size=16)\n",
    "ax2.set_title(\"Spatial shuffle using default npartitions\", size=16)\n",
    "ax3.set_title(\"Spatial shuffle using 20 partitions\", size=16)\n",
    "ax4.set_title(\"geohash 20 - 1\")\n",
    "ax5.set_title(\"geohash 20 - 2\")\n",
    "\n",
    "plt.show()"
   ]
  },
  {
   "cell_type": "code",
   "execution_count": null,
   "metadata": {},
   "outputs": [],
   "source": [
    "#print(hilbert20.spatial_partitions)\n",
    "print(geohash20.spatial_partitions)"
   ]
  },
  {
   "cell_type": "code",
   "execution_count": null,
   "metadata": {},
   "outputs": [],
   "source": [
    "print(geohash20.spatial_partitions[0])\n",
    "\n",
    "#computed_partition = geohash20.spatial_partitions[0].compute()\n"
   ]
  },
  {
   "cell_type": "code",
   "execution_count": null,
   "metadata": {},
   "outputs": [],
   "source": [
    "d_gdf = dask_geopandas.from_geopandas(us_cont, npartitions=4)\n",
    "geohash20 = d_gdf.spatial_shuffle(by=\"geohash\", npartitions=20)\n",
    "counts = {}\n",
    "for i, part in enumerate (geohash20.partitions):\n",
    "  first = geohash20.get_partition(i).compute()\n",
    "  #print(geohash20.spatial_partitions[i])\n",
    "  for index, row in first.iterrows():\n",
    "      counts[row.State] = counts.get(row.State, 0) + 1\n",
    "      print(f\"{row.State}\", end=\",\")\n",
    "  print()\n",
    "print(len(counts))"
   ]
  }
 ],
 "metadata": {
  "kernelspec": {
   "display_name": "Python 3",
   "language": "python",
   "name": "python3"
  },
  "language_info": {
   "codemirror_mode": {
    "name": "ipython",
    "version": 3
   },
   "file_extension": ".py",
   "mimetype": "text/x-python",
   "name": "python",
   "nbconvert_exporter": "python",
   "pygments_lexer": "ipython3",
   "version": "3.10.5"
  }
 },
 "nbformat": 4,
 "nbformat_minor": 2
}
