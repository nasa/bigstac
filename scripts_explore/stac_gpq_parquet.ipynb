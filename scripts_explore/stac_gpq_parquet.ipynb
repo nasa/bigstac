{
 "cells": [
  {
   "cell_type": "markdown",
   "id": "c1fb45d0",
   "metadata": {},
   "source": [
    "## Setup environment"
   ]
  },
  {
   "cell_type": "markdown",
   "id": "4d3496dc",
   "metadata": {},
   "source": [
    "In the terminal, create a virtual environment in the parent `bigstac` directory\n",
    "```sh\n",
    "dirs\n",
    "# ~/projects/bigstac\n",
    "\n",
    "python3 -m venv .\n",
    "source bin/activate\n",
    "```\n",
    "\n",
    "You can open this notebook in VSCode and it will suggest installing the missing `ipykernel` for you automatically. Or to serve your own Jupyter notebook, run:\n",
    "\n",
    "```sh\n",
    "pip install jupyterlab\n",
    "jupyter lab # default browser will open to localhost:8888\n",
    "```\n",
    "\n",
    "The rest of the cells can be executed in the running notebook"
   ]
  },
  {
   "cell_type": "code",
   "execution_count": null,
   "id": "5374d406",
   "metadata": {},
   "outputs": [],
   "source": [
    "%pip install pyarrow shapely"
   ]
  },
  {
   "cell_type": "markdown",
   "id": "e25b77e2-ac04-45be-b6e0-b90a160427cf",
   "metadata": {},
   "source": [
    "## Download one collection's STAC Items"
   ]
  },
  {
   "cell_type": "code",
   "execution_count": 2,
   "id": "90939621-4690-4015-97d1-20bb9e4ce8f4",
   "metadata": {},
   "outputs": [],
   "source": [
    "import pyarrow.parquet as pq\n",
    "from shapely import wkb, wkt\n",
    "import json"
   ]
  },
  {
   "cell_type": "code",
   "execution_count": 3,
   "id": "0565c761-b565-4f48-8be6-246d7347dba8",
   "metadata": {},
   "outputs": [
    {
     "name": "stderr",
     "output_type": "stream",
     "text": [
      "  % Total    % Received % Xferd  Average Speed   Time    Time     Time  Current\n",
      "                                 Dload  Upload   Total   Spent    Left  Speed\n",
      "100 23071  100 23071    0     0  17676      0  0:00:01  0:00:01 --:--:-- 17678\n"
     ]
    }
   ],
   "source": [
    "%%bash\n",
    "curl https://cmr.earthdata.nasa.gov/stac/GES_DISC/collections/LPRM_WINDSAT_NT_SOILM3_001/items -o windsat_items.json"
   ]
  },
  {
   "cell_type": "code",
   "execution_count": 4,
   "id": "eb79f4e8",
   "metadata": {},
   "outputs": [],
   "source": [
    "with open('windsat_items.json', 'r') as file:\n",
    "  windsat_json = json.load(file)"
   ]
  },
  {
   "cell_type": "markdown",
   "id": "32efb629",
   "metadata": {},
   "source": [
    "Check some top level STAC API response properties"
   ]
  },
  {
   "cell_type": "code",
   "execution_count": 5,
   "id": "052ef3a5",
   "metadata": {},
   "outputs": [
    {
     "name": "stdout",
     "output_type": "stream",
     "text": [
      "type:            FeatureCollection\n",
      "stac_version:    1.0.0\n",
      "description:     Items in the collection LPRM_WINDSAT_NT_SOILM3_001\n",
      "numberMatched:   3169\n",
      "numberReturned:  20\n"
     ]
    }
   ],
   "source": [
    "json_keys = ['type', 'stac_version', 'description', 'numberMatched', 'numberReturned']\n",
    "for key in json_keys:\n",
    "  print(f\"{key+':' : <17}{windsat_json[key]}\")"
   ]
  },
  {
   "cell_type": "markdown",
   "id": "64be6310",
   "metadata": {},
   "source": [
    "List all first level elements of a **feature** and their second level elements.\n",
    "\n",
    "Note that there is deeper nesting not shown: the asset has four child elements."
   ]
  },
  {
   "cell_type": "code",
   "execution_count": 6,
   "id": "4d39c9a3",
   "metadata": {},
   "outputs": [
    {
     "name": "stdout",
     "output_type": "stream",
     "text": [
      "type\n",
      "id\n",
      "stac_version\n",
      "stac_extensions\n",
      "properties: \n",
      "   datetime, start_datetime, end_datetime\n",
      "geometry: \n",
      "   type, coordinates\n",
      "bbox\n",
      "assets: \n",
      "   001/2003/02/LPRM-WINDSAT_L3_NT_SOILM3_V001_20030201012753\n",
      "links: \n",
      "   rel, href, type, title\n",
      "collection\n"
     ]
    }
   ],
   "source": [
    "for key in windsat_json['features'][0].keys():\n",
    "  keyElements = windsat_json['features'][0][key]\n",
    "  elements = ''\n",
    "  #print('DEBUG, ', type(keyElements))\n",
    "  if type(keyElements) == list and len(keyElements) == 1:\n",
    "    keyElements = keyElements[0]\n",
    "  if type(keyElements) == dict:\n",
    "    elements = ': \\n   ' + ', '.join(item for item in keyElements.keys())\n",
    "  print(key, elements, sep = \"\")"
   ]
  },
  {
   "cell_type": "markdown",
   "id": "f6eaba6f-a231-4ea9-b26a-80f48c5941b3",
   "metadata": {},
   "source": [
    "## Convert from STAC JSON to GeoParquet"
   ]
  },
  {
   "cell_type": "code",
   "execution_count": null,
   "id": "968454c2-3c01-404f-b66e-607a8a1e51cc",
   "metadata": {},
   "outputs": [],
   "source": [
    "%%bash\n",
    "brew install planetlabs/tap/gpq"
   ]
  },
  {
   "cell_type": "code",
   "execution_count": 8,
   "id": "81b89f42-4754-4154-b739-71124a20f13d",
   "metadata": {},
   "outputs": [],
   "source": [
    "%%bash\n",
    "gpq convert windsat_items.json windsat_items.parquet"
   ]
  },
  {
   "cell_type": "code",
   "execution_count": 9,
   "id": "5c88adca-d3dc-46ac-a19b-8393880ec524",
   "metadata": {},
   "outputs": [],
   "source": [
    "windsat = pq.ParquetFile('windsat_items.parquet')"
   ]
  },
  {
   "cell_type": "code",
   "execution_count": 10,
   "id": "ae08d498-bd71-45a1-94fa-394780f473b6",
   "metadata": {},
   "outputs": [
    {
     "data": {
      "text/plain": [
       "<pyarrow._parquet.FileMetaData object at 0x10b56b420>\n",
       "  created_by: parquet-go version 14.0.2\n",
       "  num_columns: 4\n",
       "  num_rows: 20\n",
       "  num_row_groups: 1\n",
       "  format_version: 2.6\n",
       "  serialized_size: 923"
      ]
     },
     "execution_count": 10,
     "metadata": {},
     "output_type": "execute_result"
    }
   ],
   "source": [
    "windsat.metadata"
   ]
  },
  {
   "cell_type": "code",
   "execution_count": 11,
   "id": "d3ddd3e1-4da1-4728-97ba-b245fbc90490",
   "metadata": {},
   "outputs": [
    {
     "data": {
      "text/plain": [
       "<pyarrow._parquet.ParquetSchema object at 0x10b592640>\n",
       "repeated group field_id=-1 schema {\n",
       "  optional binary field_id=-1 datetime (String);\n",
       "  optional binary field_id=-1 end_datetime (String);\n",
       "  optional binary field_id=-1 geometry;\n",
       "  optional binary field_id=-1 start_datetime (String);\n",
       "}"
      ]
     },
     "execution_count": 11,
     "metadata": {},
     "output_type": "execute_result"
    }
   ],
   "source": [
    "windsat.schema"
   ]
  },
  {
   "cell_type": "markdown",
   "id": "0c205333",
   "metadata": {},
   "source": [
    "## Missing metadata after `gpq` conversion\n",
    "\n",
    "Only `datetime`, `start_datetime`, `end_datetime`, (all part of the feature `properties`) and `geometry` were converted to geoparquet.\n",
    "\n",
    "This is because `gpq` reads the STAC JSON as if it is plan GeoJSON, and the [spec](https://datatracker.ietf.org/doc/html/rfc7946#page-3) describes GeoJSON as only its `geometry` and `properties`. It doesn't support other top-level JSON elements."
   ]
  },
  {
   "cell_type": "markdown",
   "id": "e79a258c-3f0e-4203-babf-1aa5ee39cd6b",
   "metadata": {},
   "source": [
    "## Read parquet file and verify geometry"
   ]
  },
  {
   "cell_type": "code",
   "execution_count": 12,
   "id": "2aa6381e-2477-4f0d-a119-0b7d740a5202",
   "metadata": {},
   "outputs": [],
   "source": [
    "w_reader = windsat.read()"
   ]
  },
  {
   "cell_type": "markdown",
   "id": "ccc49f1d-8fed-4997-ab6e-0176e55b0bda",
   "metadata": {},
   "source": [
    "Slice a single row off the top to work with"
   ]
  },
  {
   "cell_type": "code",
   "execution_count": 13,
   "id": "d4fd5b18-a824-4a95-bc92-5fd674be3a2b",
   "metadata": {},
   "outputs": [],
   "source": [
    "w_s1 = w_reader.slice(length = 1)"
   ]
  },
  {
   "cell_type": "code",
   "execution_count": 14,
   "id": "13143c78-a099-41a3-ad46-b5137a5dd038",
   "metadata": {},
   "outputs": [
    {
     "data": {
      "text/plain": [
       "pyarrow.Table\n",
       "datetime: string\n",
       "end_datetime: string\n",
       "geometry: binary\n",
       "start_datetime: string\n",
       "----\n",
       "datetime: [[\"2003-02-01T01:27:53.000Z\"]]\n",
       "end_datetime: [[\"2003-02-02T01:12:06.000Z\"]]\n",
       "geometry: [[0103000000010000000500000000000000008066C000000000008056C0000000000080664000000000008056C00000000000806640000000000080564000000000008066C0000000000080564000000000008066C000000000008056C0]]\n",
       "start_datetime: [[\"2003-02-01T01:27:53.000Z\"]]"
      ]
     },
     "execution_count": 14,
     "metadata": {},
     "output_type": "execute_result"
    }
   ],
   "source": [
    "w_s1"
   ]
  },
  {
   "cell_type": "code",
   "execution_count": 15,
   "id": "11ccc783-2371-4b15-9260-7bd4b54277cb",
   "metadata": {},
   "outputs": [
    {
     "data": {
      "text/plain": [
       "b'\\x01\\x03\\x00\\x00\\x00\\x01\\x00\\x00\\x00\\x05\\x00\\x00\\x00\\x00\\x00\\x00\\x00\\x00\\x80f\\xc0\\x00\\x00\\x00\\x00\\x00\\x80V\\xc0\\x00\\x00\\x00\\x00\\x00\\x80f@\\x00\\x00\\x00\\x00\\x00\\x80V\\xc0\\x00\\x00\\x00\\x00\\x00\\x80f@\\x00\\x00\\x00\\x00\\x00\\x80V@\\x00\\x00\\x00\\x00\\x00\\x80f\\xc0\\x00\\x00\\x00\\x00\\x00\\x80V@\\x00\\x00\\x00\\x00\\x00\\x80f\\xc0\\x00\\x00\\x00\\x00\\x00\\x80V\\xc0'"
      ]
     },
     "execution_count": 15,
     "metadata": {},
     "output_type": "execute_result"
    }
   ],
   "source": [
    "w_s1['geometry'][0].as_py()"
   ]
  },
  {
   "cell_type": "markdown",
   "id": "e6b7d112-3225-4d10-90eb-768d4e6e71ff",
   "metadata": {},
   "source": [
    "For converting WKB to WKT:\n",
    "[https://stackoverflow.com/a/74399148](https://stackoverflow.com/a/74399148)"
   ]
  },
  {
   "cell_type": "code",
   "execution_count": 16,
   "id": "a979ad40-248e-4697-86a7-e41a716e85ec",
   "metadata": {},
   "outputs": [],
   "source": [
    "loaded = wkb.loads(w_s1['geometry'][0].as_py())"
   ]
  },
  {
   "cell_type": "code",
   "execution_count": 17,
   "id": "e7ae0bc0-c82d-4cc4-a641-9d04b574e80c",
   "metadata": {},
   "outputs": [
    {
     "data": {
      "text/plain": [
       "'POLYGON ((-180.0000000000000000 -90.0000000000000000, 180.0000000000000000 -90.0000000000000000, 180.0000000000000000 90.0000000000000000, -180.0000000000000000 90.0000000000000000, -180.0000000000000000 -90.0000000000000000))'"
      ]
     },
     "execution_count": 17,
     "metadata": {},
     "output_type": "execute_result"
    }
   ],
   "source": [
    "wkt.dumps(loaded)"
   ]
  }
 ],
 "metadata": {
  "kernelspec": {
   "display_name": "Python 3 (ipykernel)",
   "language": "python",
   "name": "python3"
  },
  "language_info": {
   "codemirror_mode": {
    "name": "ipython",
    "version": 3
   },
   "file_extension": ".py",
   "mimetype": "text/x-python",
   "name": "python",
   "nbconvert_exporter": "python",
   "pygments_lexer": "ipython3",
   "version": "3.12.3"
  }
 },
 "nbformat": 4,
 "nbformat_minor": 5
}
