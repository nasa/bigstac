{
 "cells": [
  {
   "cell_type": "markdown",
   "metadata": {},
   "source": [
    "# Search Machine\n",
    "\n",
    "Start with just a provider and short name and perform the full search.\n",
    "1. download STAC records from CMR\n",
    "1. convert each record to a GeoParquet file\n",
    "1. use duckdb to combine all the GeoParquet files into one big file with extra info\n",
    "1. Now do a basic search and try to find a record with a point\n",
    "1. Now do a more realistic search and try to find multiple records."
   ]
  },
  {
   "cell_type": "code",
   "execution_count": null,
   "metadata": {},
   "outputs": [],
   "source": [
    "provider = 'NSIDC_ECS'\n",
    "short_name = 'ABLVIS1B_1'\n",
    "user_search = pg = '''POLYGON((\n",
    "    -110.60867891721024 53.37487808881224,\n",
    "    -110.60867891721024 53.29764645852637,\n",
    "    -109.73806661064765 53.29764645852637,\n",
    "    -109.73806661064765 53.37487808881224,\n",
    "    -110.60867891721024 53.37487808881224\n",
    "))'''\n",
    "limit = 20"
   ]
  },
  {
   "cell_type": "code",
   "execution_count": null,
   "metadata": {},
   "outputs": [],
   "source": [
    "import requests\n",
    "import os\n",
    "\n",
    "def stac_to_files(provider, short_name):\n",
    "    base = f\"https://cmr.earthdata.nasa.gov/stac/{provider}/collections/{short_name}/items\"\n",
    "    current = base\n",
    "    base_path = f\"data/{provider}/{short_name}\"\n",
    "    if not os.path.exists(base_path):\n",
    "        os.makedirs(base_path)\n",
    "    file_count = 0\n",
    "    while current and (0 < limit and file_count < limit):\n",
    "        resp = requests.get(current)\n",
    "    \n",
    "        # check for end of data\n",
    "        if resp.status_code!=200:\n",
    "            message = resp.json()('errors')(0)\n",
    "            print(f\"\\033(31mError: {resp.status_code} - {resp.reason}: {message}\\n{current}\\033(0m\")\n",
    "            break # the cursor is broken, get out\n",
    "        \n",
    "        data = resp.json()\n",
    "\n",
    "        # download data\n",
    "        for feature in data['features']:\n",
    "            granule_url = f\"{base}/{feature['id']}\"\n",
    "            gran_resp = requests.get(granule_url)\n",
    "            file_count = file_count + 1\n",
    "            if gran_resp.status_code == 200:\n",
    "                with open (f\"{base_path}/{feature['id']}.json\", 'w') as f:\n",
    "                    print(f\"Save {feature['id']}\")\n",
    "                    f.write(gran_resp.text)\n",
    "\n",
    "        # look for next page\n",
    "        found_next = False\n",
    "        for link in data['links']:\n",
    "            if link['rel']=='next':\n",
    "                next_url = link['href']\n",
    "                current = next_url if current != next_url else ''\n",
    "                found_next = True\n",
    "                break\n",
    "        if not found_next:\n",
    "            current = ''\n",
    "\n",
    "stac_to_files(provider, short_name)"
   ]
  },
  {
   "cell_type": "markdown",
   "metadata": {},
   "source": [
    "Now Convert each file over to GeoParquet"
   ]
  },
  {
   "cell_type": "code",
   "execution_count": null,
   "metadata": {},
   "outputs": [],
   "source": [
    "%%bash\n",
    "convert()\n",
    "{\n",
    "    provider=$1\n",
    "    short_name=$2\n",
    "    echo $provider $short_name\n",
    "    \n",
    "    for i in data/$provider/$short_name/*.json\n",
    "    do\n",
    "        base_name=\"$(basename $i .json)\"\n",
    "        gpq convert $i data/$provider/$short_name/$base_name.parquet\n",
    "    done \n",
    "    ls -l data/$provider/$short_name\n",
    "}\n",
    "\n",
    "convert 'NSIDC_ECS' 'ABLVIS1B_1'"
   ]
  },
  {
   "cell_type": "markdown",
   "metadata": {},
   "source": [
    "Combine al the smaller files into one bigger file, but add the granule id which is part of the file name to each row.\n",
    "\n",
    "found this in github: https://github.com/duckdb/duckdb/pull/4097/files"
   ]
  },
  {
   "cell_type": "code",
   "execution_count": null,
   "metadata": {},
   "outputs": [],
   "source": [
    "import duckdb\n",
    "\n",
    "duckdb.sql(f\"select * from 'data/{provider}/{short_name}/SC*.parquet'\")\n",
    "\n",
    "prefix = f\"data/{provider}/{short_name}/\"\n",
    "prefix_size = len(prefix) + 1\n",
    "duckdb.sql(f'''\n",
    "    COPY (select filename[{prefix_size}:-9] as granule, * from parquet_scan('data/{provider}/{short_name}/SC*.parquet', FILENAME=1))\n",
    "    TO 'data/{provider}/{short_name}/all.parquet'\n",
    "    ''')"
   ]
  },
  {
   "cell_type": "markdown",
   "metadata": {},
   "source": [
    "Perform a basic search. There are not many points as most of these polygons snake across the map with only a small about of overlap."
   ]
  },
  {
   "cell_type": "code",
   "execution_count": null,
   "metadata": {},
   "outputs": [],
   "source": [
    "prefix = f\"data/{provider}/{short_name}/\"\n",
    "print(prefix)\n",
    "\n",
    "# -107.21 52.73\n",
    "# -109.75 53.34\n",
    "# POINT(-107.5 53.3)\n",
    "duckdb.sql(f'''\n",
    "SELECT *, st_contains(geometry::geometry, 'POINT(-107.5 53.3)'::GEOMETRY) as found,\n",
    "    granule,\n",
    "    geometry\n",
    "FROM parquet_scan('data/{provider}/{short_name}/all.parquet')\n",
    "--WHERE found == true\n",
    "''')\n"
   ]
  },
  {
   "cell_type": "markdown",
   "metadata": {},
   "source": [
    "Finally try an intersects search using the user search from up top. {user_search}"
   ]
  },
  {
   "cell_type": "code",
   "execution_count": null,
   "metadata": {},
   "outputs": [],
   "source": [
    "\n",
    "duckdb.sql(f'''\n",
    "SELECT st_intersects(geometry::geometry, '{user_search}'::GEOMETRY) AS found,\n",
    "    granule,\n",
    "    geometry\n",
    "FROM parquet_scan('data/{provider}/{short_name}/all.parquet')\n",
    "WHERE found = true\n",
    "''')"
   ]
  }
 ],
 "metadata": {
  "kernelspec": {
   "display_name": "Python 3",
   "language": "python",
   "name": "python3"
  },
  "language_info": {
   "codemirror_mode": {
    "name": "ipython",
    "version": 3
   },
   "file_extension": ".py",
   "mimetype": "text/x-python",
   "name": "python",
   "nbconvert_exporter": "python",
   "pygments_lexer": "ipython3",
   "version": "3.10.5"
  }
 },
 "nbformat": 4,
 "nbformat_minor": 2
}
