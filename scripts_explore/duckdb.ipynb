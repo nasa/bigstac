{
 "cells": [
  {
   "cell_type": "markdown",
   "metadata": {},
   "source": [
    "# Loading and using duckdb in python\n",
    "\n",
    "## Dependencies\n",
    "\n",
    "You only need to call the following once"
   ]
  },
  {
   "cell_type": "code",
   "execution_count": null,
   "metadata": {},
   "outputs": [],
   "source": [
    "%pip install duckdb pyarrow shapely requests"
   ]
  },
  {
   "cell_type": "markdown",
   "metadata": {},
   "source": [
    "## Get a bunch of files\n",
    "Download an entire collection's worth of files and convert them to GeoParquet"
   ]
  },
  {
   "cell_type": "code",
   "execution_count": null,
   "metadata": {},
   "outputs": [],
   "source": [
    "import requests\n",
    "\n",
    "base = 'https://cmr.earthdata.nasa.gov/stac/GES_DISC/collections/LPRM_WINDSAT_NT_SOILM3_001/items'\n",
    "current = base\n",
    "while len(current) > 0:\n",
    "    resp = requests.get(current)\n",
    "    \n",
    "    # check for end of data\n",
    "    if resp.status_code!=200:\n",
    "        message = resp.json()['errors'][0]\n",
    "        print(f\"\\033[31mError: {resp.status_code} - {resp.reason}: {message}\\n{current}\\033[0m\")\n",
    "        break # the cursor is broken, get out\n",
    "    \n",
    "    data = resp.json()\n",
    "\n",
    "    # download data\n",
    "    for feature in data['features']:\n",
    "        granule_url = f\"{base}/{feature['id']}\"\n",
    "        gran_resp = requests.get(granule_url)\n",
    "        if gran_resp.status_code == 200:\n",
    "            with open (f\"data/{feature['id']}.json\", 'w') as f:\n",
    "                print(f\"Save {feature['id']}\")\n",
    "                f.write(gran_resp.text)\n",
    "\n",
    "    # look for next page\n",
    "    for link in data['links']:\n",
    "        if link['rel']=='next':\n",
    "            next = link['href']\n",
    "            current = next if current != next else ''"
   ]
  },
  {
   "cell_type": "markdown",
   "metadata": {},
   "source": [
    "Now convert them using the gpq command"
   ]
  },
  {
   "cell_type": "code",
   "execution_count": null,
   "metadata": {},
   "outputs": [],
   "source": [
    "%%bash\n",
    "for i in data/*.nc.json \n",
    "do\n",
    "    base_name=\"$(basename $i .json)\"\n",
    "    gpq convert $i data/$base_name.parquet\n",
    "done \n",
    "ls -l data\n"
   ]
  },
  {
   "cell_type": "markdown",
   "metadata": {},
   "source": []
  },
  {
   "cell_type": "code",
   "execution_count": null,
   "metadata": {},
   "outputs": [],
   "source": [
    "import duckdb\n",
    "\n",
    "duckdb.sql('''\n",
    "COPY (select geometry from 'data/LPRM_WINDSAT_NT_SOILM3.001*.parquet')\n",
    "TO 'data/LPRM_WINDSAT_NT_SOILM3.001_LPRM-WINDSAT_L3_NT_SOILM3_V001.parquet'\n",
    "''')"
   ]
  },
  {
   "cell_type": "markdown",
   "metadata": {},
   "source": [
    "## Get data as a collection\n",
    "\n",
    "using curl to get a collection as a STAC request and then convert the output to a geo parquet file with the gpq tool, which is assumed to be installed locally with brew."
   ]
  },
  {
   "cell_type": "code",
   "execution_count": null,
   "metadata": {},
   "outputs": [],
   "source": [
    "%%bash\n",
    "mkdir -p data\n",
    "cd data\n",
    "curl -s \\\n",
    "    'https://cmr.earthdata.nasa.gov/stac/GES_DISC/collections/LPRM_WINDSAT_NT_SOILM3_001/items' \\\n",
    "    > LPRM_WINDSAT_NT_SOILM3_001.stac.json\n",
    "gpq convert LPRM_WINDSAT_NT_SOILM3_001.stac.json LPRM_WINDSAT_NT_SOILM3_001.geo.parquet\n",
    "gpq describe LPRM_WINDSAT_NT_SOILM3_001.geo.parquet\n",
    "ls -l"
   ]
  },
  {
   "cell_type": "markdown",
   "metadata": {},
   "source": [
    "Now load the data into a database"
   ]
  },
  {
   "cell_type": "code",
   "execution_count": null,
   "metadata": {},
   "outputs": [],
   "source": [
    "import duckdb"
   ]
  },
  {
   "cell_type": "markdown",
   "metadata": {},
   "source": [
    "Describe the geo parquet file"
   ]
  },
  {
   "cell_type": "code",
   "execution_count": null,
   "metadata": {},
   "outputs": [],
   "source": [
    "print(duckdb.sql(\"describe select * from 'data/LPRM_WINDSAT_NT_SOILM3_001.geo.parquet'\"))"
   ]
  },
  {
   "cell_type": "markdown",
   "metadata": {},
   "source": []
  },
  {
   "cell_type": "markdown",
   "metadata": {},
   "source": [
    "Look inside it for data"
   ]
  },
  {
   "cell_type": "code",
   "execution_count": null,
   "metadata": {},
   "outputs": [],
   "source": [
    "print(duckdb.sql(\"select * from 'data/LPRM_WINDSAT_NT_SOILM3_001.geo.parquet'\"))"
   ]
  },
  {
   "cell_type": "code",
   "execution_count": null,
   "metadata": {},
   "outputs": [],
   "source": [
    "duckdb.sql(\"create table lprm as select * from 'data/LPRM_WINDSAT_NT_SOILM3_001.geo.parquet'\")"
   ]
  },
  {
   "cell_type": "code",
   "execution_count": null,
   "metadata": {},
   "outputs": [],
   "source": [
    "print(duckdb.sql(\"select * from lprm where '2003-02-09' < datetime AND datetime < '2003-02-12' \"))"
   ]
  },
  {
   "cell_type": "markdown",
   "metadata": {},
   "source": [
    "Try to prove that geoparquet is supported"
   ]
  },
  {
   "cell_type": "code",
   "execution_count": null,
   "metadata": {},
   "outputs": [],
   "source": [
    "result = duckdb.sql('''\n",
    "SELECT extension_name, description\n",
    "FROM duckdb_extensions()\n",
    "WHERE installed == true\n",
    "\tAND extension_name == 'spatial';\n",
    "''')\n",
    "print(result)"
   ]
  },
  {
   "cell_type": "code",
   "execution_count": null,
   "metadata": {},
   "outputs": [],
   "source": [
    "duckdb.read_parquet('data/LPRM_WINDSAT_NT_SOILM3_001.geo.parquet')"
   ]
  },
  {
   "cell_type": "code",
   "execution_count": null,
   "metadata": {},
   "outputs": [],
   "source": [
    "duckdb.sql('''\n",
    "SELECT ST_Contains(GEOMETRY, 'POINT(45 89)'::GEOMETRY) AS contains,\n",
    "    st_normalize(geometry)\n",
    "FROM 'data/*.geo.parquet';\n",
    "''')"
   ]
  },
  {
   "cell_type": "markdown",
   "metadata": {},
   "source": [
    "## Cleanup here\n",
    "Random shell commands to clean up the data directory, run as needed!"
   ]
  },
  {
   "cell_type": "code",
   "execution_count": null,
   "metadata": {},
   "outputs": [],
   "source": [
    "%%bash\n",
    "pwd\n",
    "ls\n",
    "rm -rf data\n",
    "ls"
   ]
  }
 ],
 "metadata": {
  "kernelspec": {
   "display_name": "Python 3",
   "language": "python",
   "name": "python3"
  },
  "language_info": {
   "codemirror_mode": {
    "name": "ipython",
    "version": 3
   },
   "file_extension": ".py",
   "mimetype": "text/x-python",
   "name": "python",
   "nbconvert_exporter": "python",
   "pygments_lexer": "ipython3",
   "version": "3.10.5"
  }
 },
 "nbformat": 4,
 "nbformat_minor": 2
}
