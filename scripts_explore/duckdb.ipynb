{
 "cells": [
  {
   "cell_type": "markdown",
   "metadata": {},
   "source": [
    "# Loading and using duckdb in python\n",
    "\n",
    "## Dependencies\n",
    "\n",
    "You only need to call the following once"
   ]
  },
  {
   "cell_type": "code",
   "execution_count": null,
   "metadata": {},
   "outputs": [],
   "source": [
    "%pip install duckdb pyarrow shapely requests"
   ]
  },
  {
   "cell_type": "markdown",
   "metadata": {},
   "source": [
    "## Get a bunch of files\n",
    "Download an entire collection's worth of files and convert them to GeoParquet"
   ]
  },
  {
   "cell_type": "code",
   "execution_count": 94,
   "metadata": {},
   "outputs": [
    {
     "name": "stdout",
     "output_type": "stream",
     "text": [
      "GET LPRM_WINDSAT_NT_SOILM3.001:LPRM-WINDSAT_L3_NT_SOILM3_V001_20030201012753.nc\n",
      "GET LPRM_WINDSAT_NT_SOILM3.001:LPRM-WINDSAT_L3_NT_SOILM3_V001_20030202011051.nc\n",
      "GET LPRM_WINDSAT_NT_SOILM3.001:LPRM-WINDSAT_L3_NT_SOILM3_V001_20030203010110.nc\n",
      "GET LPRM_WINDSAT_NT_SOILM3.001:LPRM-WINDSAT_L3_NT_SOILM3_V001_20030204003656.nc\n",
      "GET LPRM_WINDSAT_NT_SOILM3.001:LPRM-WINDSAT_L3_NT_SOILM3_V001_20030205002359.nc\n",
      "GET LPRM_WINDSAT_NT_SOILM3.001:LPRM-WINDSAT_L3_NT_SOILM3_V001_20030206000707.nc\n",
      "GET LPRM_WINDSAT_NT_SOILM3.001:LPRM-WINDSAT_L3_NT_SOILM3_V001_20030207012800.nc\n",
      "GET LPRM_WINDSAT_NT_SOILM3.001:LPRM-WINDSAT_L3_NT_SOILM3_V001_20030208011455.nc\n",
      "GET LPRM_WINDSAT_NT_SOILM3.001:LPRM-WINDSAT_L3_NT_SOILM3_V001_20030209005039.nc\n",
      "GET LPRM_WINDSAT_NT_SOILM3.001:LPRM-WINDSAT_L3_NT_SOILM3_V001_20030210003343.nc\n",
      "GET LPRM_WINDSAT_NT_SOILM3.001:LPRM-WINDSAT_L3_NT_SOILM3_V001_20030211002044.nc\n",
      "GET LPRM_WINDSAT_NT_SOILM3.001:LPRM-WINDSAT_L3_NT_SOILM3_V001_20030212000355.nc\n",
      "GET LPRM_WINDSAT_NT_SOILM3.001:LPRM-WINDSAT_L3_NT_SOILM3_V001_20030213012124.nc\n",
      "GET LPRM_WINDSAT_NT_SOILM3.001:LPRM-WINDSAT_L3_NT_SOILM3_V001_20030214010423.nc\n",
      "GET LPRM_WINDSAT_NT_SOILM3.001:LPRM-WINDSAT_L3_NT_SOILM3_V001_20030215005111.nc\n",
      "GET LPRM_WINDSAT_NT_SOILM3.001:LPRM-WINDSAT_L3_NT_SOILM3_V001_20030216003030.nc\n",
      "GET LPRM_WINDSAT_NT_SOILM3.001:LPRM-WINDSAT_L3_NT_SOILM3_V001_20030217001733.nc\n",
      "GET LPRM_WINDSAT_NT_SOILM3.001:LPRM-WINDSAT_L3_NT_SOILM3_V001_20030218013510.nc\n",
      "GET LPRM_WINDSAT_NT_SOILM3.001:LPRM-WINDSAT_L3_NT_SOILM3_V001_20030219012747.nc\n",
      "GET LPRM_WINDSAT_NT_SOILM3.001:LPRM-WINDSAT_L3_NT_SOILM3_V001_20030220010108.nc\n",
      "\u001b[31mError: 500 - Internal Server Error: Oops! Something has gone wrong. We have been alerted and are working to resolve the problem. Please try your request again later.\n",
      "https://cmr.earthdata.nasa.gov/stac/GES_DISC/collections/LPRM_WINDSAT_NT_SOILM3_001/items?cursor=eyJqc29uIjoiW1wiZ2VzX2Rpc2NcIiwxMDQ1NzAyODY4MDAwLDE0ODkzMDM1MDJdIiwidW1tIjoiW1wiZ2VzX2Rpc2NcIiwxMDQ1NzAyODY4MDAwLDE0ODkzMDM1MDJdIn0%3D\u001b[0m\n"
     ]
    }
   ],
   "source": [
    "import requests\n",
    "\n",
    "base = 'https://cmr.earthdata.nasa.gov/stac/GES_DISC/collections/LPRM_WINDSAT_NT_SOILM3_001/items'\n",
    "current = base\n",
    "while len(current) > 0:\n",
    "    resp = requests.get(current)\n",
    "    \n",
    "    # check for end of data\n",
    "    if resp.status_code!=200:\n",
    "        message = resp.json()['errors'][0]\n",
    "        print(f\"\\033[31mError: {resp.status_code} - {resp.reason}: {message}\\n{current}\\033[0m\")\n",
    "        break # the cursor is broken, get out\n",
    "    \n",
    "    data = resp.json()\n",
    "\n",
    "    # download data\n",
    "    for feature in data['features']:\n",
    "        granule_url = f\"{base}/{feature['id']}\"\n",
    "        gran_resp = requests.get(granule_url)\n",
    "        if gran_resp.status_code == 200:\n",
    "            with open (f\"data/{feature['id']}.json\", 'w') as f:\n",
    "                print(f\"Save {feature['id']}\")\n",
    "                f.write(gran_resp.text)\n",
    "\n",
    "    # look for next page\n",
    "    for link in data['links']:\n",
    "        if link['rel']=='next':\n",
    "            next = link['href']\n",
    "            current = next if current != next else ''"
   ]
  },
  {
   "cell_type": "markdown",
   "metadata": {},
   "source": [
    "Now convert them using the gpq command"
   ]
  },
  {
   "cell_type": "code",
   "execution_count": 75,
   "metadata": {},
   "outputs": [
    {
     "name": "stdout",
     "output_type": "stream",
     "text": [
      "total 376\n",
      "-rw-r--r--  1 tacherr1  staff   1829 Sep 24 16:58 LPRM_WINDSAT_NT_SOILM3.001:LPRM-WINDSAT_L3_NT_SOILM3_V001_20030201012753.nc.json\n",
      "-rw-r--r--  1 tacherr1  staff   1707 Sep 24 17:08 LPRM_WINDSAT_NT_SOILM3.001:LPRM-WINDSAT_L3_NT_SOILM3_V001_20030201012753.nc.parquet\n",
      "-rw-r--r--  1 tacherr1  staff   1829 Sep 24 16:58 LPRM_WINDSAT_NT_SOILM3.001:LPRM-WINDSAT_L3_NT_SOILM3_V001_20030202011051.nc.json\n",
      "-rw-r--r--  1 tacherr1  staff   1707 Sep 24 17:08 LPRM_WINDSAT_NT_SOILM3.001:LPRM-WINDSAT_L3_NT_SOILM3_V001_20030202011051.nc.parquet\n",
      "-rw-r--r--  1 tacherr1  staff   1829 Sep 24 16:58 LPRM_WINDSAT_NT_SOILM3.001:LPRM-WINDSAT_L3_NT_SOILM3_V001_20030203010110.nc.json\n",
      "-rw-r--r--  1 tacherr1  staff   1707 Sep 24 17:08 LPRM_WINDSAT_NT_SOILM3.001:LPRM-WINDSAT_L3_NT_SOILM3_V001_20030203010110.nc.parquet\n",
      "-rw-r--r--  1 tacherr1  staff   1829 Sep 24 16:59 LPRM_WINDSAT_NT_SOILM3.001:LPRM-WINDSAT_L3_NT_SOILM3_V001_20030204003656.nc.json\n",
      "-rw-r--r--  1 tacherr1  staff   1707 Sep 24 17:08 LPRM_WINDSAT_NT_SOILM3.001:LPRM-WINDSAT_L3_NT_SOILM3_V001_20030204003656.nc.parquet\n",
      "-rw-r--r--  1 tacherr1  staff   1829 Sep 24 16:59 LPRM_WINDSAT_NT_SOILM3.001:LPRM-WINDSAT_L3_NT_SOILM3_V001_20030205002359.nc.json\n",
      "-rw-r--r--  1 tacherr1  staff   1707 Sep 24 17:08 LPRM_WINDSAT_NT_SOILM3.001:LPRM-WINDSAT_L3_NT_SOILM3_V001_20030205002359.nc.parquet\n",
      "-rw-r--r--  1 tacherr1  staff   1829 Sep 24 16:59 LPRM_WINDSAT_NT_SOILM3.001:LPRM-WINDSAT_L3_NT_SOILM3_V001_20030206000707.nc.json\n",
      "-rw-r--r--  1 tacherr1  staff   1707 Sep 24 17:08 LPRM_WINDSAT_NT_SOILM3.001:LPRM-WINDSAT_L3_NT_SOILM3_V001_20030206000707.nc.parquet\n",
      "-rw-r--r--  1 tacherr1  staff   1829 Sep 24 16:59 LPRM_WINDSAT_NT_SOILM3.001:LPRM-WINDSAT_L3_NT_SOILM3_V001_20030207012800.nc.json\n",
      "-rw-r--r--  1 tacherr1  staff   1707 Sep 24 17:08 LPRM_WINDSAT_NT_SOILM3.001:LPRM-WINDSAT_L3_NT_SOILM3_V001_20030207012800.nc.parquet\n",
      "-rw-r--r--  1 tacherr1  staff   1829 Sep 24 16:59 LPRM_WINDSAT_NT_SOILM3.001:LPRM-WINDSAT_L3_NT_SOILM3_V001_20030208011455.nc.json\n",
      "-rw-r--r--  1 tacherr1  staff   1707 Sep 24 17:08 LPRM_WINDSAT_NT_SOILM3.001:LPRM-WINDSAT_L3_NT_SOILM3_V001_20030208011455.nc.parquet\n",
      "-rw-r--r--  1 tacherr1  staff   1829 Sep 24 16:59 LPRM_WINDSAT_NT_SOILM3.001:LPRM-WINDSAT_L3_NT_SOILM3_V001_20030209005039.nc.json\n",
      "-rw-r--r--  1 tacherr1  staff   1707 Sep 24 17:08 LPRM_WINDSAT_NT_SOILM3.001:LPRM-WINDSAT_L3_NT_SOILM3_V001_20030209005039.nc.parquet\n",
      "-rw-r--r--  1 tacherr1  staff   1829 Sep 24 16:59 LPRM_WINDSAT_NT_SOILM3.001:LPRM-WINDSAT_L3_NT_SOILM3_V001_20030210003343.nc.json\n",
      "-rw-r--r--  1 tacherr1  staff   1707 Sep 24 17:08 LPRM_WINDSAT_NT_SOILM3.001:LPRM-WINDSAT_L3_NT_SOILM3_V001_20030210003343.nc.parquet\n",
      "-rw-r--r--  1 tacherr1  staff   1829 Sep 24 16:59 LPRM_WINDSAT_NT_SOILM3.001:LPRM-WINDSAT_L3_NT_SOILM3_V001_20030211002044.nc.json\n",
      "-rw-r--r--  1 tacherr1  staff   1707 Sep 24 17:08 LPRM_WINDSAT_NT_SOILM3.001:LPRM-WINDSAT_L3_NT_SOILM3_V001_20030211002044.nc.parquet\n",
      "-rw-r--r--  1 tacherr1  staff   1829 Sep 24 16:59 LPRM_WINDSAT_NT_SOILM3.001:LPRM-WINDSAT_L3_NT_SOILM3_V001_20030212000355.nc.json\n",
      "-rw-r--r--  1 tacherr1  staff   1707 Sep 24 17:08 LPRM_WINDSAT_NT_SOILM3.001:LPRM-WINDSAT_L3_NT_SOILM3_V001_20030212000355.nc.parquet\n",
      "-rw-r--r--  1 tacherr1  staff   1829 Sep 24 16:59 LPRM_WINDSAT_NT_SOILM3.001:LPRM-WINDSAT_L3_NT_SOILM3_V001_20030213012124.nc.json\n",
      "-rw-r--r--  1 tacherr1  staff   1707 Sep 24 17:08 LPRM_WINDSAT_NT_SOILM3.001:LPRM-WINDSAT_L3_NT_SOILM3_V001_20030213012124.nc.parquet\n",
      "-rw-r--r--  1 tacherr1  staff   1829 Sep 24 16:59 LPRM_WINDSAT_NT_SOILM3.001:LPRM-WINDSAT_L3_NT_SOILM3_V001_20030214010423.nc.json\n",
      "-rw-r--r--  1 tacherr1  staff   1707 Sep 24 17:08 LPRM_WINDSAT_NT_SOILM3.001:LPRM-WINDSAT_L3_NT_SOILM3_V001_20030214010423.nc.parquet\n",
      "-rw-r--r--  1 tacherr1  staff   1829 Sep 24 16:59 LPRM_WINDSAT_NT_SOILM3.001:LPRM-WINDSAT_L3_NT_SOILM3_V001_20030215005111.nc.json\n",
      "-rw-r--r--  1 tacherr1  staff   1707 Sep 24 17:08 LPRM_WINDSAT_NT_SOILM3.001:LPRM-WINDSAT_L3_NT_SOILM3_V001_20030215005111.nc.parquet\n",
      "-rw-r--r--  1 tacherr1  staff   1829 Sep 24 16:59 LPRM_WINDSAT_NT_SOILM3.001:LPRM-WINDSAT_L3_NT_SOILM3_V001_20030216003030.nc.json\n",
      "-rw-r--r--  1 tacherr1  staff   1707 Sep 24 17:08 LPRM_WINDSAT_NT_SOILM3.001:LPRM-WINDSAT_L3_NT_SOILM3_V001_20030216003030.nc.parquet\n",
      "-rw-r--r--  1 tacherr1  staff   1829 Sep 24 16:59 LPRM_WINDSAT_NT_SOILM3.001:LPRM-WINDSAT_L3_NT_SOILM3_V001_20030217001733.nc.json\n",
      "-rw-r--r--  1 tacherr1  staff   1707 Sep 24 17:08 LPRM_WINDSAT_NT_SOILM3.001:LPRM-WINDSAT_L3_NT_SOILM3_V001_20030217001733.nc.parquet\n",
      "-rw-r--r--  1 tacherr1  staff   1829 Sep 24 16:59 LPRM_WINDSAT_NT_SOILM3.001:LPRM-WINDSAT_L3_NT_SOILM3_V001_20030218013510.nc.json\n",
      "-rw-r--r--  1 tacherr1  staff   1707 Sep 24 17:08 LPRM_WINDSAT_NT_SOILM3.001:LPRM-WINDSAT_L3_NT_SOILM3_V001_20030218013510.nc.parquet\n",
      "-rw-r--r--  1 tacherr1  staff   1829 Sep 24 16:59 LPRM_WINDSAT_NT_SOILM3.001:LPRM-WINDSAT_L3_NT_SOILM3_V001_20030219012747.nc.json\n",
      "-rw-r--r--  1 tacherr1  staff   1707 Sep 24 17:08 LPRM_WINDSAT_NT_SOILM3.001:LPRM-WINDSAT_L3_NT_SOILM3_V001_20030219012747.nc.parquet\n",
      "-rw-r--r--  1 tacherr1  staff   1829 Sep 24 16:59 LPRM_WINDSAT_NT_SOILM3.001:LPRM-WINDSAT_L3_NT_SOILM3_V001_20030220010108.nc.json\n",
      "-rw-r--r--  1 tacherr1  staff   1707 Sep 24 17:08 LPRM_WINDSAT_NT_SOILM3.001:LPRM-WINDSAT_L3_NT_SOILM3_V001_20030220010108.nc.parquet\n",
      "-rw-r--r--  1 tacherr1  staff   2147 Sep 24 15:41 LPRM_WINDSAT_NT_SOILM3_001.geo.parquet\n",
      "-rw-r--r--  1 tacherr1  staff  23071 Sep 24 15:41 LPRM_WINDSAT_NT_SOILM3_001.stac.json\n"
     ]
    }
   ],
   "source": [
    "%%bash\n",
    "for i in data/*.nc.json \n",
    "do\n",
    "    base_name=\"$(basename $i .json)\"\n",
    "    gpq convert $i data/$base_name.parquet\n",
    "done \n",
    "ls -l data\n"
   ]
  },
  {
   "cell_type": "markdown",
   "metadata": {},
   "source": [
    "## Get data as a collection\n",
    "\n",
    "using curl to get a collection as a STAC request and then convert the output to a geo parquet file with the gpq tool, which is assumed to be installed locally with brew."
   ]
  },
  {
   "cell_type": "code",
   "execution_count": 11,
   "metadata": {},
   "outputs": [
    {
     "name": "stdout",
     "output_type": "stream",
     "text": [
      "╭────────────────────┬────────┬────────────┬────────────┬─────────────┬──────────┬────────────────┬──────────────────────┬────────╮\n",
      "│ COLUMN             │ TYPE   │ ANNOTATION │ REPETITION │ COMPRESSION │ ENCODING │ GEOMETRY TYPES │ BOUNDS               │ DETAIL │\n",
      "├────────────────────┼────────┼────────────┼────────────┼─────────────┼──────────┼────────────────┼──────────────────────┼────────┤\n",
      "│ datetime           │ binary │ string     │ 0..1       │ zstd        │          │                │                      │        │\n",
      "│ end_datetime       │ binary │ string     │ 0..1       │ zstd        │          │                │                      │        │\n",
      "│ \u001b[1mgeometry\u001b[0m           │ binary │            │ 0..1       │ zstd        │ WKB      │ Polygon        │ [-180, -90, 180, 90] │        │\n",
      "│ start_datetime     │ binary │ string     │ 0..1       │ zstd        │          │                │                      │        │\n",
      "├────────────────────┼────────┴────────────┴────────────┴─────────────┴──────────┴────────────────┴──────────────────────┴────────┤\n",
      "│ Rows               │ 20                                                                                                         │\n",
      "│ Row Groups         │ 1                                                                                                          │\n",
      "│ GeoParquet Version │ 1.0.0                                                                                                      │\n",
      "╰────────────────────┴────────────────────────────────────────────────────────────────────────────────────────────────────────────╯\n",
      "total 56\n",
      "-rw-r--r--  1 tacherr1  staff   2147 Sep 24 15:41 LPRM_WINDSAT_NT_SOILM3_001.geo.parquet\n",
      "-rw-r--r--  1 tacherr1  staff  23071 Sep 24 15:41 LPRM_WINDSAT_NT_SOILM3_001.stac.json\n"
     ]
    }
   ],
   "source": [
    "%%bash\n",
    "mkdir -p data\n",
    "cd data\n",
    "curl -s \\\n",
    "    'https://cmr.earthdata.nasa.gov/stac/GES_DISC/collections/LPRM_WINDSAT_NT_SOILM3_001/items' \\\n",
    "    > LPRM_WINDSAT_NT_SOILM3_001.stac.json\n",
    "gpq convert LPRM_WINDSAT_NT_SOILM3_001.stac.json LPRM_WINDSAT_NT_SOILM3_001.geo.parquet\n",
    "gpq describe LPRM_WINDSAT_NT_SOILM3_001.geo.parquet\n",
    "ls -l"
   ]
  },
  {
   "cell_type": "markdown",
   "metadata": {},
   "source": [
    "Now load the data into a database"
   ]
  },
  {
   "cell_type": "code",
   "execution_count": 4,
   "metadata": {},
   "outputs": [],
   "source": [
    "import duckdb"
   ]
  },
  {
   "cell_type": "markdown",
   "metadata": {},
   "source": [
    "Describe the geo parquet file"
   ]
  },
  {
   "cell_type": "code",
   "execution_count": 6,
   "metadata": {},
   "outputs": [
    {
     "name": "stdout",
     "output_type": "stream",
     "text": [
      "┌────────────────┬─────────────┬─────────┬─────────┬─────────┬─────────┐\n",
      "│  column_name   │ column_type │  null   │   key   │ default │  extra  │\n",
      "│    varchar     │   varchar   │ varchar │ varchar │ varchar │ varchar │\n",
      "├────────────────┼─────────────┼─────────┼─────────┼─────────┼─────────┤\n",
      "│ datetime       │ VARCHAR     │ YES     │ NULL    │ NULL    │ NULL    │\n",
      "│ end_datetime   │ VARCHAR     │ YES     │ NULL    │ NULL    │ NULL    │\n",
      "│ geometry       │ GEOMETRY    │ YES     │ NULL    │ NULL    │ NULL    │\n",
      "│ start_datetime │ VARCHAR     │ YES     │ NULL    │ NULL    │ NULL    │\n",
      "└────────────────┴─────────────┴─────────┴─────────┴─────────┴─────────┘\n",
      "\n"
     ]
    }
   ],
   "source": [
    "print(duckdb.sql(\"describe select * from 'data/LPRM_WINDSAT_NT_SOILM3_001.geo.parquet'\"))"
   ]
  },
  {
   "cell_type": "markdown",
   "metadata": {},
   "source": []
  },
  {
   "cell_type": "markdown",
   "metadata": {},
   "source": [
    "Look inside it for data"
   ]
  },
  {
   "cell_type": "code",
   "execution_count": 5,
   "metadata": {},
   "outputs": [
    {
     "name": "stdout",
     "output_type": "stream",
     "text": [
      "┌──────────────────────────┬──────────────────────────┬──────────────────────────────────────────────────────────┬──────────────────────────┐\n",
      "│         datetime         │       end_datetime       │                         geometry                         │      start_datetime      │\n",
      "│         varchar          │         varchar          │                         geometry                         │         varchar          │\n",
      "├──────────────────────────┼──────────────────────────┼──────────────────────────────────────────────────────────┼──────────────────────────┤\n",
      "│ 2003-02-01T01:27:53.000Z │ 2003-02-02T01:12:06.000Z │ POLYGON ((-180 -90, 180 -90, 180 90, -180 90, -180 -90)) │ 2003-02-01T01:27:53.000Z │\n",
      "│ 2003-02-02T01:10:51.000Z │ 2003-02-03T01:01:10.000Z │ POLYGON ((-180 -90, 180 -90, 180 90, -180 90, -180 -90)) │ 2003-02-02T01:10:51.000Z │\n",
      "│ 2003-02-03T01:01:10.000Z │ 2003-02-04T00:38:11.000Z │ POLYGON ((-180 -90, 180 -90, 180 90, -180 90, -180 -90)) │ 2003-02-03T01:01:10.000Z │\n",
      "│ 2003-02-04T00:36:56.000Z │ 2003-02-05T00:23:59.000Z │ POLYGON ((-180 -90, 180 -90, 180 90, -180 90, -180 -90)) │ 2003-02-04T00:36:56.000Z │\n",
      "│ 2003-02-05T00:23:59.000Z │ 2003-02-06T00:07:07.000Z │ POLYGON ((-180 -90, 180 -90, 180 90, -180 90, -180 -90)) │ 2003-02-05T00:23:59.000Z │\n",
      "│ 2003-02-06T00:07:07.000Z │ 2003-02-07T01:28:00.000Z │ POLYGON ((-180 -90, 180 -90, 180 90, -180 90, -180 -90)) │ 2003-02-06T00:07:07.000Z │\n",
      "│ 2003-02-07T01:28:00.000Z │ 2003-02-08T01:14:55.000Z │ POLYGON ((-180 -90, 180 -90, 180 90, -180 90, -180 -90)) │ 2003-02-07T01:28:00.000Z │\n",
      "│ 2003-02-08T01:14:55.000Z │ 2003-02-09T00:51:54.000Z │ POLYGON ((-180 -90, 180 -90, 180 90, -180 90, -180 -90)) │ 2003-02-08T01:14:55.000Z │\n",
      "│ 2003-02-09T00:50:39.000Z │ 2003-02-10T00:34:58.000Z │ POLYGON ((-180 -90, 180 -90, 180 90, -180 90, -180 -90)) │ 2003-02-09T00:50:39.000Z │\n",
      "│ 2003-02-10T00:33:43.000Z │ 2003-02-11T00:20:44.000Z │ POLYGON ((-180 -90, 180 -90, 180 90, -180 90, -180 -90)) │ 2003-02-10T00:33:43.000Z │\n",
      "│ 2003-02-11T00:20:44.000Z │ 2003-02-12T00:03:55.000Z │ POLYGON ((-180 -90, 180 -90, 180 90, -180 90, -180 -90)) │ 2003-02-11T00:20:44.000Z │\n",
      "│ 2003-02-12T00:03:55.000Z │ 2003-02-13T01:22:39.000Z │ POLYGON ((-180 -90, 180 -90, 180 90, -180 90, -180 -90)) │ 2003-02-12T00:03:55.000Z │\n",
      "│ 2003-02-13T01:21:24.000Z │ 2003-02-14T01:05:38.000Z │ POLYGON ((-180 -90, 180 -90, 180 90, -180 90, -180 -90)) │ 2003-02-13T01:21:24.000Z │\n",
      "│ 2003-02-14T01:04:23.000Z │ 2003-02-15T00:51:11.000Z │ POLYGON ((-180 -90, 180 -90, 180 90, -180 90, -180 -90)) │ 2003-02-14T01:04:23.000Z │\n",
      "│ 2003-02-15T00:51:11.000Z │ 2003-02-16T00:31:46.000Z │ POLYGON ((-180 -90, 180 -90, 180 90, -180 90, -180 -90)) │ 2003-02-15T00:51:11.000Z │\n",
      "│ 2003-02-16T00:30:30.000Z │ 2003-02-17T00:17:33.000Z │ POLYGON ((-180 -90, 180 -90, 180 90, -180 90, -180 -90)) │ 2003-02-16T00:30:30.000Z │\n",
      "│ 2003-02-17T00:17:33.000Z │ 2003-02-18T01:36:25.000Z │ POLYGON ((-180 -90, 180 -90, 180 90, -180 90, -180 -90)) │ 2003-02-17T00:17:33.000Z │\n",
      "│ 2003-02-18T01:35:10.000Z │ 2003-02-19T01:27:47.000Z │ POLYGON ((-180 -90, 180 -90, 180 90, -180 90, -180 -90)) │ 2003-02-18T01:35:10.000Z │\n",
      "│ 2003-02-19T01:27:47.000Z │ 2003-02-20T01:02:23.000Z │ POLYGON ((-180 -90, 180 -90, 180 90, -180 90, -180 -90)) │ 2003-02-19T01:27:47.000Z │\n",
      "│ 2003-02-20T01:01:08.000Z │ 2003-02-21T00:47:59.000Z │ POLYGON ((-180 -90, 180 -90, 180 90, -180 90, -180 -90)) │ 2003-02-20T01:01:08.000Z │\n",
      "├──────────────────────────┴──────────────────────────┴──────────────────────────────────────────────────────────┴──────────────────────────┤\n",
      "│ 20 rows                                                                                                                         4 columns │\n",
      "└───────────────────────────────────────────────────────────────────────────────────────────────────────────────────────────────────────────┘\n",
      "\n"
     ]
    }
   ],
   "source": [
    "print(duckdb.sql(\"select * from 'data/LPRM_WINDSAT_NT_SOILM3_001.geo.parquet'\"))"
   ]
  },
  {
   "cell_type": "code",
   "execution_count": 8,
   "metadata": {},
   "outputs": [],
   "source": [
    "duckdb.sql(\"create table lprm as select * from 'data/LPRM_WINDSAT_NT_SOILM3_001.geo.parquet'\")"
   ]
  },
  {
   "cell_type": "code",
   "execution_count": 9,
   "metadata": {},
   "outputs": [
    {
     "name": "stdout",
     "output_type": "stream",
     "text": [
      "┌──────────────────────────┬──────────────────────────┬──────────────────────────────────────────────────────────┬──────────────────────────┐\n",
      "│         datetime         │       end_datetime       │                         geometry                         │      start_datetime      │\n",
      "│         varchar          │         varchar          │                         geometry                         │         varchar          │\n",
      "├──────────────────────────┼──────────────────────────┼──────────────────────────────────────────────────────────┼──────────────────────────┤\n",
      "│ 2003-02-09T00:50:39.000Z │ 2003-02-10T00:34:58.000Z │ POLYGON ((-180 -90, 180 -90, 180 90, -180 90, -180 -90)) │ 2003-02-09T00:50:39.000Z │\n",
      "│ 2003-02-10T00:33:43.000Z │ 2003-02-11T00:20:44.000Z │ POLYGON ((-180 -90, 180 -90, 180 90, -180 90, -180 -90)) │ 2003-02-10T00:33:43.000Z │\n",
      "│ 2003-02-11T00:20:44.000Z │ 2003-02-12T00:03:55.000Z │ POLYGON ((-180 -90, 180 -90, 180 90, -180 90, -180 -90)) │ 2003-02-11T00:20:44.000Z │\n",
      "└──────────────────────────┴──────────────────────────┴──────────────────────────────────────────────────────────┴──────────────────────────┘\n",
      "\n"
     ]
    }
   ],
   "source": [
    "print(duckdb.sql(\"select * from lprm where '2003-02-09' < datetime AND datetime < '2003-02-12' \"))"
   ]
  },
  {
   "cell_type": "markdown",
   "metadata": {},
   "source": [
    "Try to prove that geoparquet is supported"
   ]
  },
  {
   "cell_type": "code",
   "execution_count": 10,
   "metadata": {},
   "outputs": [
    {
     "name": "stdout",
     "output_type": "stream",
     "text": [
      "┌────────────────┬────────────────────────────────────────────────────────────────────────────────────┐\n",
      "│ extension_name │                                    description                                     │\n",
      "│    varchar     │                                      varchar                                       │\n",
      "├────────────────┼────────────────────────────────────────────────────────────────────────────────────┤\n",
      "│ spatial        │ Geospatial extension that adds support for working with spatial data and functions │\n",
      "└────────────────┴────────────────────────────────────────────────────────────────────────────────────┘\n",
      "\n"
     ]
    }
   ],
   "source": [
    "result = duckdb.sql('''\n",
    "SELECT extension_name, description\n",
    "FROM duckdb_extensions()\n",
    "WHERE installed == true\n",
    "\tAND extension_name == 'spatial';\n",
    "''')\n",
    "print(result)"
   ]
  },
  {
   "cell_type": "code",
   "execution_count": 12,
   "metadata": {},
   "outputs": [
    {
     "data": {
      "text/plain": [
       "┌──────────────────────────┬──────────────────────────┬──────────────────────────────────────────────────────────┬──────────────────────────┐\n",
       "│         datetime         │       end_datetime       │                         geometry                         │      start_datetime      │\n",
       "│         varchar          │         varchar          │                         geometry                         │         varchar          │\n",
       "├──────────────────────────┼──────────────────────────┼──────────────────────────────────────────────────────────┼──────────────────────────┤\n",
       "│ 2003-02-01T01:27:53.000Z │ 2003-02-02T01:12:06.000Z │ POLYGON ((-180 -90, 180 -90, 180 90, -180 90, -180 -90)) │ 2003-02-01T01:27:53.000Z │\n",
       "│ 2003-02-02T01:10:51.000Z │ 2003-02-03T01:01:10.000Z │ POLYGON ((-180 -90, 180 -90, 180 90, -180 90, -180 -90)) │ 2003-02-02T01:10:51.000Z │\n",
       "│ 2003-02-03T01:01:10.000Z │ 2003-02-04T00:38:11.000Z │ POLYGON ((-180 -90, 180 -90, 180 90, -180 90, -180 -90)) │ 2003-02-03T01:01:10.000Z │\n",
       "│ 2003-02-04T00:36:56.000Z │ 2003-02-05T00:23:59.000Z │ POLYGON ((-180 -90, 180 -90, 180 90, -180 90, -180 -90)) │ 2003-02-04T00:36:56.000Z │\n",
       "│ 2003-02-05T00:23:59.000Z │ 2003-02-06T00:07:07.000Z │ POLYGON ((-180 -90, 180 -90, 180 90, -180 90, -180 -90)) │ 2003-02-05T00:23:59.000Z │\n",
       "│ 2003-02-06T00:07:07.000Z │ 2003-02-07T01:28:00.000Z │ POLYGON ((-180 -90, 180 -90, 180 90, -180 90, -180 -90)) │ 2003-02-06T00:07:07.000Z │\n",
       "│ 2003-02-07T01:28:00.000Z │ 2003-02-08T01:14:55.000Z │ POLYGON ((-180 -90, 180 -90, 180 90, -180 90, -180 -90)) │ 2003-02-07T01:28:00.000Z │\n",
       "│ 2003-02-08T01:14:55.000Z │ 2003-02-09T00:51:54.000Z │ POLYGON ((-180 -90, 180 -90, 180 90, -180 90, -180 -90)) │ 2003-02-08T01:14:55.000Z │\n",
       "│ 2003-02-09T00:50:39.000Z │ 2003-02-10T00:34:58.000Z │ POLYGON ((-180 -90, 180 -90, 180 90, -180 90, -180 -90)) │ 2003-02-09T00:50:39.000Z │\n",
       "│ 2003-02-10T00:33:43.000Z │ 2003-02-11T00:20:44.000Z │ POLYGON ((-180 -90, 180 -90, 180 90, -180 90, -180 -90)) │ 2003-02-10T00:33:43.000Z │\n",
       "│ 2003-02-11T00:20:44.000Z │ 2003-02-12T00:03:55.000Z │ POLYGON ((-180 -90, 180 -90, 180 90, -180 90, -180 -90)) │ 2003-02-11T00:20:44.000Z │\n",
       "│ 2003-02-12T00:03:55.000Z │ 2003-02-13T01:22:39.000Z │ POLYGON ((-180 -90, 180 -90, 180 90, -180 90, -180 -90)) │ 2003-02-12T00:03:55.000Z │\n",
       "│ 2003-02-13T01:21:24.000Z │ 2003-02-14T01:05:38.000Z │ POLYGON ((-180 -90, 180 -90, 180 90, -180 90, -180 -90)) │ 2003-02-13T01:21:24.000Z │\n",
       "│ 2003-02-14T01:04:23.000Z │ 2003-02-15T00:51:11.000Z │ POLYGON ((-180 -90, 180 -90, 180 90, -180 90, -180 -90)) │ 2003-02-14T01:04:23.000Z │\n",
       "│ 2003-02-15T00:51:11.000Z │ 2003-02-16T00:31:46.000Z │ POLYGON ((-180 -90, 180 -90, 180 90, -180 90, -180 -90)) │ 2003-02-15T00:51:11.000Z │\n",
       "│ 2003-02-16T00:30:30.000Z │ 2003-02-17T00:17:33.000Z │ POLYGON ((-180 -90, 180 -90, 180 90, -180 90, -180 -90)) │ 2003-02-16T00:30:30.000Z │\n",
       "│ 2003-02-17T00:17:33.000Z │ 2003-02-18T01:36:25.000Z │ POLYGON ((-180 -90, 180 -90, 180 90, -180 90, -180 -90)) │ 2003-02-17T00:17:33.000Z │\n",
       "│ 2003-02-18T01:35:10.000Z │ 2003-02-19T01:27:47.000Z │ POLYGON ((-180 -90, 180 -90, 180 90, -180 90, -180 -90)) │ 2003-02-18T01:35:10.000Z │\n",
       "│ 2003-02-19T01:27:47.000Z │ 2003-02-20T01:02:23.000Z │ POLYGON ((-180 -90, 180 -90, 180 90, -180 90, -180 -90)) │ 2003-02-19T01:27:47.000Z │\n",
       "│ 2003-02-20T01:01:08.000Z │ 2003-02-21T00:47:59.000Z │ POLYGON ((-180 -90, 180 -90, 180 90, -180 90, -180 -90)) │ 2003-02-20T01:01:08.000Z │\n",
       "├──────────────────────────┴──────────────────────────┴──────────────────────────────────────────────────────────┴──────────────────────────┤\n",
       "│ 20 rows                                                                                                                         4 columns │\n",
       "└───────────────────────────────────────────────────────────────────────────────────────────────────────────────────────────────────────────┘"
      ]
     },
     "execution_count": 12,
     "metadata": {},
     "output_type": "execute_result"
    }
   ],
   "source": [
    "duckdb.read_parquet('data/LPRM_WINDSAT_NT_SOILM3_001.geo.parquet')"
   ]
  },
  {
   "cell_type": "code",
   "execution_count": 83,
   "metadata": {},
   "outputs": [
    {
     "data": {
      "text/plain": [
       "┌──────────┬──────────────────────────────────────────────────────────┐\n",
       "│ contains │                  st_normalize(geometry)                  │\n",
       "│ boolean  │                         geometry                         │\n",
       "├──────────┼──────────────────────────────────────────────────────────┤\n",
       "│ true     │ POLYGON ((-180 -90, -180 90, 180 90, 180 -90, -180 -90)) │\n",
       "│ true     │ POLYGON ((-180 -90, -180 90, 180 90, 180 -90, -180 -90)) │\n",
       "│ true     │ POLYGON ((-180 -90, -180 90, 180 90, 180 -90, -180 -90)) │\n",
       "│ true     │ POLYGON ((-180 -90, -180 90, 180 90, 180 -90, -180 -90)) │\n",
       "│ true     │ POLYGON ((-180 -90, -180 90, 180 90, 180 -90, -180 -90)) │\n",
       "│ true     │ POLYGON ((-180 -90, -180 90, 180 90, 180 -90, -180 -90)) │\n",
       "│ true     │ POLYGON ((-180 -90, -180 90, 180 90, 180 -90, -180 -90)) │\n",
       "│ true     │ POLYGON ((-180 -90, -180 90, 180 90, 180 -90, -180 -90)) │\n",
       "│ true     │ POLYGON ((-180 -90, -180 90, 180 90, 180 -90, -180 -90)) │\n",
       "│ true     │ POLYGON ((-180 -90, -180 90, 180 90, 180 -90, -180 -90)) │\n",
       "│ true     │ POLYGON ((-180 -90, -180 90, 180 90, 180 -90, -180 -90)) │\n",
       "│ true     │ POLYGON ((-180 -90, -180 90, 180 90, 180 -90, -180 -90)) │\n",
       "│ true     │ POLYGON ((-180 -90, -180 90, 180 90, 180 -90, -180 -90)) │\n",
       "│ true     │ POLYGON ((-180 -90, -180 90, 180 90, 180 -90, -180 -90)) │\n",
       "│ true     │ POLYGON ((-180 -90, -180 90, 180 90, 180 -90, -180 -90)) │\n",
       "│ true     │ POLYGON ((-180 -90, -180 90, 180 90, 180 -90, -180 -90)) │\n",
       "│ true     │ POLYGON ((-180 -90, -180 90, 180 90, 180 -90, -180 -90)) │\n",
       "│ true     │ POLYGON ((-180 -90, -180 90, 180 90, 180 -90, -180 -90)) │\n",
       "│ true     │ POLYGON ((-180 -90, -180 90, 180 90, 180 -90, -180 -90)) │\n",
       "│ true     │ POLYGON ((-180 -90, -180 90, 180 90, 180 -90, -180 -90)) │\n",
       "├──────────┴──────────────────────────────────────────────────────────┤\n",
       "│ 20 rows                                                   2 columns │\n",
       "└─────────────────────────────────────────────────────────────────────┘"
      ]
     },
     "execution_count": 83,
     "metadata": {},
     "output_type": "execute_result"
    }
   ],
   "source": [
    "duckdb.sql('''\n",
    "SELECT ST_Contains(GEOMETRY, 'POINT(45 89)'::GEOMETRY) AS contains,\n",
    "    st_normalize(geometry)\n",
    "FROM 'data/*.geo.parquet';\n",
    "''')"
   ]
  },
  {
   "cell_type": "markdown",
   "metadata": {},
   "source": [
    "## Cleanup here\n",
    "Random shell commands to clean up the data directory, run as needed!"
   ]
  },
  {
   "cell_type": "code",
   "execution_count": null,
   "metadata": {},
   "outputs": [],
   "source": [
    "%%bash\n",
    "pwd\n",
    "ls\n",
    "rm -rf data\n",
    "ls"
   ]
  }
 ],
 "metadata": {
  "kernelspec": {
   "display_name": "Python 3",
   "language": "python",
   "name": "python3"
  },
  "language_info": {
   "codemirror_mode": {
    "name": "ipython",
    "version": 3
   },
   "file_extension": ".py",
   "mimetype": "text/x-python",
   "name": "python",
   "nbconvert_exporter": "python",
   "pygments_lexer": "ipython3",
   "version": "3.10.5"
  }
 },
 "nbformat": 4,
 "nbformat_minor": 2
}
