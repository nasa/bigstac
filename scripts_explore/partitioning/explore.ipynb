{
 "cells": [
  {
   "cell_type": "code",
   "execution_count": 1,
   "metadata": {},
   "outputs": [],
   "source": [
    "import pyarrow.parquet as pq\n",
    "import pandas as pd\n",
    "import dask_geopandas as dgp\n",
    "from shapely import wkb\n",
    "import matplotlib.pyplot as plt\n",
    "import geopandas as gpd"
   ]
  },
  {
   "cell_type": "code",
   "execution_count": 15,
   "metadata": {},
   "outputs": [
    {
     "name": "stdout",
     "output_type": "stream",
     "text": [
      "hilbert_distance\n",
      "877    POLYGON ((-180 -89.9, -180 -90, -179.9 -90, -1...\n",
      "877    POLYGON ((-180 -89.9, -180 -90, -179.9 -90, -1...\n",
      "877    POLYGON ((-180 -89.9, -180 -90, -179.9 -90, -1...\n",
      "Name: geometry, dtype: geometry\n",
      "hilbert_distance\n",
      "967256469    POLYGON ((-146.01353 -33.11766, -171.93548 -36...\n",
      "967256469    POLYGON ((-146.01353 -33.11766, -171.93548 -36...\n",
      "967256469    POLYGON ((-146.01353 -33.11766, -171.93548 -36...\n",
      "Name: geometry, dtype: geometry\n",
      "hilbert_distance\n",
      "1893404616    POLYGON ((-9.46232 33.08863, 0 33.93548, 0 43....\n",
      "1893404616    POLYGON ((-9.46232 33.08863, 0 33.93548, 0 43....\n",
      "1893404616    POLYGON ((-9.46232 33.08863, 0 33.93548, 0 43....\n",
      "Name: geometry, dtype: geometry\n",
      "hilbert_distance\n",
      "2372220553    POLYGON ((39.10132 22.51865, 39.35742 23.51015...\n",
      "2372220553    POLYGON ((39.10132 22.51865, 39.35742 23.51015...\n",
      "2372220816    POLYGON ((38.67927 22.97668, 38.71723 22.79244...\n",
      "Name: geometry, dtype: geometry\n",
      "hilbert_distance\n",
      "3315025670    POLYGON ((166.36975 -44.37806, 166.85487 -44.2...\n",
      "3315025670    POLYGON ((166.36975 -44.37806, 166.41935 -44.3...\n",
      "3315028418    POLYGON ((154.15216 -43.60791, 166.59302 -47.2...\n",
      "Name: geometry, dtype: geometry\n"
     ]
    }
   ],
   "source": [
    "base_path = '~/src/project/cmr-bigstac-prototype/bigstac/scripts_explore/partitioning'\n",
    "\n",
    "input_file = '3mil_no_global_bounds.parquet'\n",
    "\n",
    "for i in range(5):\n",
    "  input_file = f\"{base_path}/part.{i}.parquet\"\n",
    "  ddf = dgp.read_parquet(input_file)\n",
    "  print(ddf.head(3)['geometry'])"
   ]
  },
  {
   "cell_type": "code",
   "execution_count": 16,
   "metadata": {},
   "outputs": [
    {
     "name": "stdout",
     "output_type": "stream",
     "text": [
      "hilbert_distance\n",
      "877    POLYGON ((-180 -89.9, -180 -90, -179.9 -90, -1...\n",
      "877    POLYGON ((-180 -89.9, -180 -90, -179.9 -90, -1...\n",
      "877    POLYGON ((-180 -89.9, -180 -90, -179.9 -90, -1...\n",
      "877    POLYGON ((-180 -89.9, -180 -90, -179.9 -90, -1...\n",
      "877    POLYGON ((-180 -89.9, -180 -90, -179.9 -90, -1...\n",
      "Name: geometry, dtype: geometry\n",
      "hilbert_distance\n",
      "967256199    POLYGON ((-146.52577 -33.24356, -171.923 -36.8...\n",
      "967256199    POLYGON ((-136.29118 -49.92588, -141.86511 -42...\n",
      "967256199    POLYGON ((-146.52577 -33.24356, -171.923 -36.8...\n",
      "967256199    POLYGON ((-146.52577 -33.24356, -171.923 -36.8...\n",
      "967256199    POLYGON ((-146.52577 -33.24356, -171.923 -36.8...\n",
      "Name: geometry, dtype: geometry\n"
     ]
    }
   ],
   "source": [
    "i = 0\n",
    "input_file = f\"{base_path}/part.{i}.parquet\"\n",
    "ddf = dgp.read_parquet(input_file)\n",
    "print(ddf.head()['geometry'])\n",
    "print(ddf.tail()['geometry'])"
   ]
  },
  {
   "cell_type": "code",
   "execution_count": 17,
   "metadata": {},
   "outputs": [
    {
     "name": "stdout",
     "output_type": "stream",
     "text": [
      "~/src/project/cmr-bigstac-prototype/bigstac/scripts_explore/partitioning/part.0.parquet\n"
     ]
    },
    {
     "ename": "AttributeError",
     "evalue": "'Polygon' object has no attribute 'centoid'",
     "output_type": "error",
     "traceback": [
      "\u001b[0;31m---------------------------------------------------------------------------\u001b[0m",
      "\u001b[0;31mAttributeError\u001b[0m                            Traceback (most recent call last)",
      "Cell \u001b[0;32mIn[17], line 30\u001b[0m\n\u001b[1;32m     28\u001b[0m   \u001b[38;5;28;01mif\u001b[39;00m last_geo \u001b[38;5;241m!=\u001b[39m geometry:\n\u001b[1;32m     29\u001b[0m     i \u001b[38;5;241m=\u001b[39m i \u001b[38;5;241m+\u001b[39m \u001b[38;5;241m1\u001b[39m\n\u001b[0;32m---> 30\u001b[0m     \u001b[38;5;28mprint\u001b[39m(\u001b[38;5;124mf\u001b[39m\u001b[38;5;124m\"\u001b[39m\u001b[38;5;124mgeom changed \u001b[39m\u001b[38;5;132;01m{\u001b[39;00mi\u001b[38;5;132;01m}\u001b[39;00m\u001b[38;5;124m: \u001b[39m\u001b[38;5;132;01m{\u001b[39;00m\u001b[43mlast_geo\u001b[49m\u001b[38;5;241;43m.\u001b[39;49m\u001b[43mcentoid\u001b[49m \u001b[38;5;241m<\u001b[39m geometry\u001b[38;5;241m.\u001b[39mcentroid\u001b[38;5;132;01m}\u001b[39;00m\u001b[38;5;124m\"\u001b[39m)\n\u001b[1;32m     31\u001b[0m last_geo \u001b[38;5;241m=\u001b[39m geometry\n\u001b[1;32m     33\u001b[0m \u001b[38;5;66;03m#print(geometry.bounds)\u001b[39;00m\n\u001b[1;32m     34\u001b[0m \u001b[38;5;66;03m#print(geometry.geom_type)\u001b[39;00m\n\u001b[1;32m     35\u001b[0m \u001b[38;5;66;03m#print(geometry.area)\u001b[39;00m\n\u001b[0;32m   (...)\u001b[0m\n\u001b[1;32m     38\u001b[0m \u001b[38;5;66;03m#print (f\"{index}: {time_start} - {geometry}\")\u001b[39;00m\n\u001b[1;32m     39\u001b[0m \u001b[38;5;66;03m#print(row['StartTime', 'EndTime', 'geometry', 'bbox']) \u001b[39;00m\n",
      "\u001b[0;31mAttributeError\u001b[0m: 'Polygon' object has no attribute 'centoid'"
     ]
    }
   ],
   "source": [
    "base_path = '~/src/project/cmr-bigstac-prototype/bigstac/scripts_explore/partitioning'\n",
    "i = 0\n",
    "input_file = f\"{base_path}/part.{i}.parquet\"\n",
    "print(input_file)\n",
    "parquet_file = pq.ParquetFile(input_file)\n",
    "\n",
    "# Loop through each row group\n",
    "for row_group_index in range(parquet_file.num_row_groups):\n",
    "    row_group = parquet_file.read_row_group(row_group_index)\n",
    "    df = row_group.to_pandas()\n",
    "    i = 0\n",
    "\n",
    "    last_start = None\n",
    "    last_geo = None\n",
    "    for index, row in df.iterrows():\n",
    "        time_start = row['StartTime']\n",
    "        time_stop = row['EndTime']\n",
    "        \n",
    "        #if last_start is not None and last_start < time_stop:\n",
    "        #  print(f\"out of order {i}: {time_start} - {time_stop}\")\n",
    "        #last_start = time_stop\n",
    "        \n",
    "        # Convert the WKB geometry to a Shapely geometry object\n",
    "        geometry = wkb.loads(row['geometry'], hex=True)\n",
    "        #print(geometry)\n",
    "\n",
    "        if last_geo is not None:\n",
    "          if last_geo != geometry:\n",
    "            i = i + 1\n",
    "            print(f\"geom changed {i}: {last_geo.centoid.x < geometry.centroid.x}\")\n",
    "        last_geo = geometry\n",
    "\n",
    "        #print(geometry.bounds)\n",
    "        #print(geometry.geom_type)\n",
    "        #print(geometry.area)\n",
    "        #print(geometry.length)\n",
    "        #bbox = row['bbox']\n",
    "        #print (f\"{index}: {time_start} - {geometry}\")\n",
    "        #print(row['StartTime', 'EndTime', 'geometry', 'bbox']) \n",
    "        if  i >= 15:\n",
    "          break\n",
    "\n",
    "    print(f\"Finished processing row group {row_group_index}\")\n",
    "\n",
    "print(\"Finished processing all row groups\")\n"
   ]
  }
 ],
 "metadata": {
  "kernelspec": {
   "display_name": "Python 3",
   "language": "python",
   "name": "python3"
  },
  "language_info": {
   "codemirror_mode": {
    "name": "ipython",
    "version": 3
   },
   "file_extension": ".py",
   "mimetype": "text/x-python",
   "name": "python",
   "nbconvert_exporter": "python",
   "pygments_lexer": "ipython3",
   "version": "3.10.5"
  }
 },
 "nbformat": 4,
 "nbformat_minor": 2
}
