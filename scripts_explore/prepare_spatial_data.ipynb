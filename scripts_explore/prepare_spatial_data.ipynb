{
 "cells": [
  {
   "cell_type": "markdown",
   "metadata": {},
   "source": [
    "# Sample spatial query data\n",
    "\n",
    "Prepare several geojson files based on Natural Earth's California shape."
   ]
  },
  {
   "cell_type": "code",
   "execution_count": 1,
   "metadata": {},
   "outputs": [],
   "source": [
    "import duckdb\n",
    "from matplotlib import pyplot as plt\n",
    "import pandas as pd\n",
    "import geopandas as gpd\n",
    "import shapely"
   ]
  },
  {
   "cell_type": "markdown",
   "metadata": {},
   "source": [
    "## Get US State Data"
   ]
  },
  {
   "cell_type": "markdown",
   "metadata": {},
   "source": [
    "Set the output path for downloaded and exported data"
   ]
  },
  {
   "cell_type": "code",
   "execution_count": 2,
   "metadata": {},
   "outputs": [],
   "source": [
    "outpath = 'data/spatial'"
   ]
  },
  {
   "cell_type": "code",
   "execution_count": 3,
   "metadata": {},
   "outputs": [
    {
     "name": "stderr",
     "output_type": "stream",
     "text": [
      "  % Total    % Received % Xferd  Average Speed   Time    Time     Time  Current\n",
      "                                 Dload  Upload   Total   Spent    Left  Speed\n",
      "100 14.2M  100 14.2M    0     0  26.3M      0 --:--:-- --:--:-- --:--:-- 26.3M\n"
     ]
    }
   ],
   "source": [
    "%%bash -s \"$outpath\"\n",
    "mkdir -p $1\n",
    "if [ ! -f $1/ne_10m_admin_1_states_provinces.zip ]; then curl -L -o $1/ne_10m_admin_1_states_provinces.zip \"https://naciscdn.org/naturalearth/10m/cultural/ne_10m_admin_1_states_provinces.zip\"; fi"
   ]
  },
  {
   "cell_type": "markdown",
   "metadata": {},
   "source": [
    "Subset states to California"
   ]
  },
  {
   "cell_type": "code",
   "execution_count": 4,
   "metadata": {},
   "outputs": [],
   "source": [
    "admin1 = gpd.read_file(f'{outpath}/ne_10m_admin_1_states_provinces.zip')\n",
    "usa_states = admin1[admin1.iso_a2 == 'US'][['name', 'geometry']]\n",
    "usa_states = usa_states.rename(columns={'name': 'state_name'})\n",
    "california = usa_states[usa_states[\"state_name\"]==\"California\"]"
   ]
  },
  {
   "cell_type": "markdown",
   "metadata": {},
   "source": [
    "## Vary Polygon Complexity"
   ]
  },
  {
   "cell_type": "markdown",
   "metadata": {},
   "source": [
    "Count polygon vertices"
   ]
  },
  {
   "cell_type": "code",
   "execution_count": 5,
   "metadata": {},
   "outputs": [],
   "source": [
    "# https://gis.stackexchange.com/a/457595\n",
    "def geometry_flatten(geom):\n",
    "  if hasattr(geom, 'geoms'):  # Multi<Type> / GeometryCollection\n",
    "    for g in geom.geoms:\n",
    "      yield from geometry_flatten(g)\n",
    "  elif hasattr(geom, 'interiors'):  # Polygon\n",
    "    yield geom.exterior\n",
    "    yield from geom.interiors\n",
    "  else:  # Point / LineString\n",
    "    yield geom\n",
    "\n",
    "def geometry_length(geom):\n",
    "  return sum(len(g.coords) for g in geometry_flatten(geom))"
   ]
  },
  {
   "cell_type": "code",
   "execution_count": 6,
   "metadata": {},
   "outputs": [
    {
     "name": "stdout",
     "output_type": "stream",
     "text": [
      "ca_shp:\n",
      "  type: <class 'shapely.geometry.multipolygon.MultiPolygon'>\n",
      "  vertex count: 1856\n"
     ]
    }
   ],
   "source": [
    "ca_shp = california.iloc[0]['geometry']\n",
    "print('ca_shp:')\n",
    "print(f'  type: {type(ca_shp)}')\n",
    "print(f'  vertex count: {geometry_length(ca_shp)}')"
   ]
  },
  {
   "cell_type": "markdown",
   "metadata": {},
   "source": [
    "Reduce shape complexity"
   ]
  },
  {
   "cell_type": "code",
   "execution_count": 7,
   "metadata": {},
   "outputs": [
    {
     "name": "stdout",
     "output_type": "stream",
     "text": [
      "ca_simple:\n",
      "  type: <class 'shapely.geometry.multipolygon.MultiPolygon'>\n",
      "  vertex count: 434\n",
      "ca_simple has 23% the vertices of ca_shp\n"
     ]
    }
   ],
   "source": [
    "ca_simple = shapely.simplify(ca_shp, tolerance = 0.01) # tolerance in units of CRS: decimal degrees\n",
    "print('ca_simple:')\n",
    "print(f'  type: {type(ca_simple)}')\n",
    "print(f'  vertex count: {geometry_length(ca_simple)}')\n",
    "print(f'ca_simple has {int(geometry_length(ca_simple)/geometry_length(ca_shp)*100)}% the vertices of ca_shp')"
   ]
  },
  {
   "cell_type": "markdown",
   "metadata": {},
   "source": [
    "## Create Bounding Box"
   ]
  },
  {
   "cell_type": "markdown",
   "metadata": {},
   "source": [
    "The bounding box will be a shapely polygon geometry object. Later we can convert it to other formats, like point geometry or a simple list of coordinates."
   ]
  },
  {
   "cell_type": "code",
   "execution_count": 8,
   "metadata": {},
   "outputs": [
    {
     "name": "stdout",
     "output_type": "stream",
     "text": [
      "shapely.envelope returns object with type of <class 'shapely.geometry.polygon.Polygon'>\n"
     ]
    }
   ],
   "source": [
    "ca_bbox = shapely.envelope(ca_shp)\n",
    "print(f'shapely.envelope returns object with type of {type(ca_bbox)}')"
   ]
  },
  {
   "cell_type": "code",
   "execution_count": 9,
   "metadata": {},
   "outputs": [
    {
     "name": "stdout",
     "output_type": "stream",
     "text": [
      "POLYGON ((-124.409202 32.531669\n",
      "          -114.119061 32.531669\n",
      "          -114.119061 41.99954\n",
      "          -124.409202 41.99954\n",
      "          -124.409202 32.531669))\n"
     ]
    }
   ],
   "source": [
    "print(shapely.to_wkt(ca_bbox).replace(',', '\\n         '))"
   ]
  },
  {
   "cell_type": "markdown",
   "metadata": {},
   "source": [
    "## Smaller Bounding Box\n",
    "\n",
    "So that we can query generally the same region of the world with the same shape complexity, but with a smaller area."
   ]
  },
  {
   "cell_type": "code",
   "execution_count": 10,
   "metadata": {},
   "outputs": [],
   "source": [
    "ca_centroid = shapely.centroid(ca_shp)"
   ]
  },
  {
   "cell_type": "code",
   "execution_count": 11,
   "metadata": {},
   "outputs": [
    {
     "data": {
      "text/plain": [
       "[(-124.4092019709999, 32.53166949000402),\n",
       " (-114.1190613217226, 32.53166949000402),\n",
       " (-114.1190613217226, 41.99954022140406),\n",
       " (-124.4092019709999, 41.99954022140406),\n",
       " (-124.4092019709999, 32.53166949000402)]"
      ]
     },
     "execution_count": 11,
     "metadata": {},
     "output_type": "execute_result"
    }
   ],
   "source": [
    "list(ca_bbox.exterior.coords)"
   ]
  },
  {
   "cell_type": "markdown",
   "metadata": {},
   "source": [
    "Coordinate order above: lower left, lower right, upper right, upper left, lower left (repeated to close polygon).  \n",
    "\n",
    "Next, resize the bounding box by applying a resizing factor to the distance between the center and the lower left bounding box coordinate."
   ]
  },
  {
   "cell_type": "code",
   "execution_count": 12,
   "metadata": {},
   "outputs": [
    {
     "data": {
      "text/plain": [
       "[(-121.04544405757561, 35.895427403428315),\n",
       " (-121.04544405757561, 38.63578230797977),\n",
       " (-117.48281923514689, 38.63578230797977),\n",
       " (-117.48281923514689, 35.895427403428315),\n",
       " (-121.04544405757561, 35.895427403428315)]"
      ]
     },
     "execution_count": 12,
     "metadata": {},
     "output_type": "execute_result"
    }
   ],
   "source": [
    "resize_factor = -0.50\n",
    "\n",
    "ca_bbox_shrunk = (\n",
    "  ca_bbox.buffer(resize_factor *\n",
    "                 ca_centroid.distance(\n",
    "                   shapely.geometry.Point(ca_bbox.exterior.coords[0])))\n",
    ")\n",
    "list(ca_bbox_shrunk.exterior.coords)"
   ]
  },
  {
   "cell_type": "markdown",
   "metadata": {},
   "source": [
    "Plot the boxes with the original California shape"
   ]
  },
  {
   "cell_type": "code",
   "execution_count": 13,
   "metadata": {},
   "outputs": [
    {
     "data": {
      "image/png": "[encoded data removed]",
      "text/plain": [
       "<Figure size 640x480 with 1 Axes>"
      ]
     },
     "metadata": {},
     "output_type": "display_data"
    }
   ],
   "source": [
    "for poly in ca_shp.geoms: # California is a multipolygon\n",
    "  plt.plot(*poly.exterior.xy, color = '#119955')\n",
    "plt.plot(*ca_bbox.exterior.xy, color = '#66aadd')\n",
    "plt.plot(*ca_bbox_shrunk.exterior.xy, color = '#eeaa44')\n",
    "plt.axis('equal')\n",
    "plt.subplot().spines[['right', 'top']].set_visible(False)\n",
    "plt.show()"
   ]
  },
  {
   "cell_type": "markdown",
   "metadata": {},
   "source": [
    "<span style=\"color:#119955\">California (original resolution)</span>  \n",
    "<span style=\"color:#66aadd\">California (bounding box)</span>  \n",
    "<span style=\"color:#eeaa44\">California (shrunken bounding box)</span>  "
   ]
  },
  {
   "cell_type": "markdown",
   "metadata": {},
   "source": [
    "## Bounding Box as Multipoint, Points, and Min/Max Columns\n",
    "\n",
    "Convert the original bounding box to various other formats."
   ]
  },
  {
   "cell_type": "code",
   "execution_count": 14,
   "metadata": {},
   "outputs": [],
   "source": [
    "ca_bbox_multipoint = shapely.geometry.MultiPoint(ca_bbox.exterior.coords[0:4])"
   ]
  },
  {
   "cell_type": "code",
   "execution_count": 15,
   "metadata": {},
   "outputs": [],
   "source": [
    "ca_bbox_points = [shapely.geometry.Point(p) for p in ca_bbox.exterior.coords[0:4]]"
   ]
  },
  {
   "cell_type": "markdown",
   "metadata": {},
   "source": [
    "Didn't actually use the object below: it's easier to write a parquet file directly with geopandas so that the group column (of all four coordinates) is stored. Keeping this here for visual reference of what a bounding box looks like as four columns."
   ]
  },
  {
   "cell_type": "code",
   "execution_count": 16,
   "metadata": {},
   "outputs": [
    {
     "data": {
      "text/html": [
       "<div>\n",
       "<style scoped>\n",
       "    .dataframe tbody tr th:only-of-type {\n",
       "        vertical-align: middle;\n",
       "    }\n",
       "\n",
       "    .dataframe tbody tr th {\n",
       "        vertical-align: top;\n",
       "    }\n",
       "\n",
       "    .dataframe thead th {\n",
       "        text-align: right;\n",
       "    }\n",
       "</style>\n",
       "<table border=\"1\" class=\"dataframe\">\n",
       "  <thead>\n",
       "    <tr style=\"text-align: right;\">\n",
       "      <th></th>\n",
       "      <th>min_x</th>\n",
       "      <th>min_y</th>\n",
       "      <th>max_x</th>\n",
       "      <th>max_y</th>\n",
       "    </tr>\n",
       "  </thead>\n",
       "  <tbody>\n",
       "    <tr>\n",
       "      <th>0</th>\n",
       "      <td>-124.409202</td>\n",
       "      <td>32.531669</td>\n",
       "      <td>-114.119061</td>\n",
       "      <td>41.99954</td>\n",
       "    </tr>\n",
       "  </tbody>\n",
       "</table>\n",
       "</div>"
      ],
      "text/plain": [
       "        min_x      min_y       max_x     max_y\n",
       "0 -124.409202  32.531669 -114.119061  41.99954"
      ]
     },
     "execution_count": 16,
     "metadata": {},
     "output_type": "execute_result"
    }
   ],
   "source": [
    "ca_bbox_x, ca_bbox_y = ca_bbox.exterior.xy\n",
    "ca_bbox_columns = \\\n",
    "  pd.DataFrame({'min_x': [min(ca_bbox_x)],\n",
    "                'min_y': [min(ca_bbox_y)],\n",
    "                'max_x': [max(ca_bbox_x)],\n",
    "                'max_y': [max(ca_bbox_y)]})\n",
    "ca_bbox_columns"
   ]
  },
  {
   "cell_type": "markdown",
   "metadata": {},
   "source": [
    "## Write Output Geometries\n",
    "\n",
    "We can use these geometries in our test plan to examine the impact varying shape parameters has on query performance."
   ]
  },
  {
   "cell_type": "code",
   "execution_count": 17,
   "metadata": {},
   "outputs": [],
   "source": [
    "california.to_file(f'{outpath}/ca_shp.geojson', driver='GeoJSON')"
   ]
  },
  {
   "cell_type": "markdown",
   "metadata": {},
   "source": [
    "Combine shapely geometries into Geopandas dataframes. That allows us to include name properties that DuckDB will read as a column, and will allow us to differentiate which input query geometries were used in the results of later spatial joins."
   ]
  },
  {
   "cell_type": "code",
   "execution_count": 18,
   "metadata": {},
   "outputs": [],
   "source": [
    "for export_shape in ['ca_simple', 'ca_bbox', 'ca_bbox_shrunk',\n",
    "                     'ca_bbox_multipoint', 'ca_centroid']:\n",
    "  gdf = gpd.GeoDataFrame({'feature_name': [export_shape],\n",
    "                          'geometry': globals()[export_shape]},\n",
    "                          crs='EPSG:4326')\n",
    "  gdf.to_file(f'{outpath}/{export_shape}.geojson',\n",
    "              driver='GeoJSON')"
   ]
  },
  {
   "cell_type": "markdown",
   "metadata": {},
   "source": [
    "The geodataframe with four separate points needs to be created slightly differently than the pattern above."
   ]
  },
  {
   "cell_type": "code",
   "execution_count": 19,
   "metadata": {},
   "outputs": [],
   "source": [
    "gpd.GeoDataFrame({\n",
    "                    'feature_name':\n",
    "                      list('ca_bbox_points_' + point_id for point_id in ['LL', 'LR', 'UR', 'UL']),\n",
    "                    'geometry': ca_bbox_points\n",
    "                 },\n",
    "                 crs='EPSG:4326').to_file(\n",
    "                   f'{outpath}/ca_bbox_points.geojson',\n",
    "                   driver = 'GeoJSON'\n",
    "                 )"
   ]
  },
  {
   "cell_type": "markdown",
   "metadata": {},
   "source": [
    "## Test that DuckDB can load GeoJSON files"
   ]
  },
  {
   "cell_type": "code",
   "execution_count": 21,
   "metadata": {},
   "outputs": [
    {
     "data": {
      "text/plain": [
       "┌──────────────┬───────────────────────────────────────────────┐\n",
       "│ feature_name │                     geom                      │\n",
       "│   varchar    │                   geometry                    │\n",
       "├──────────────┼───────────────────────────────────────────────┤\n",
       "│ ca_centroid  │ POINT (-119.60590001319969 37.24205795622323) │\n",
       "└──────────────┴───────────────────────────────────────────────┘"
      ]
     },
     "execution_count": 21,
     "metadata": {},
     "output_type": "execute_result"
    }
   ],
   "source": [
    "duckdb.sql('INSTALL SPATIAL; LOAD SPATIAL;')\n",
    "duckdb.sql(f\"SELECT * FROM ST_Read('{outpath}/ca_centroid.geojson')\")"
   ]
  },
  {
   "cell_type": "markdown",
   "metadata": {},
   "source": [
    "## Write bbox as separate columns\n",
    "\n",
    "Geopandas' parquet writer (with `write_covering_bbox = True`) handles setting up the parquet schema so that the four bounding box coordinate columns are treated as a group column."
   ]
  },
  {
   "cell_type": "code",
   "execution_count": 22,
   "metadata": {},
   "outputs": [],
   "source": [
    "ca_bbox_in = gpd.read_file(f'{outpath}/ca_bbox.geojson')\n",
    "ca_bbox_in.to_parquet(\n",
    "  path = f'{outpath}/ca_bbox.parquet',\n",
    "  write_covering_bbox = True\n",
    ")"
   ]
  },
  {
   "cell_type": "markdown",
   "metadata": {},
   "source": [
    "## Test loading the parquet bbox file in DuckDB"
   ]
  },
  {
   "cell_type": "code",
   "execution_count": 23,
   "metadata": {},
   "outputs": [
    {
     "data": {
      "text/plain": [
       "┌──────────────┬────────────────────────────────────────────────────────────────────────────────────────────────────────────────┐\n",
       "│ feature_name │                                                      bbox                                                      │\n",
       "│   varchar    │                           struct(xmin double, ymin double, xmax double, ymax double)                           │\n",
       "├──────────────┼────────────────────────────────────────────────────────────────────────────────────────────────────────────────┤\n",
       "│ ca_bbox      │ {'xmin': -124.4092019709999, 'ymin': 32.53166949000402, 'xmax': -114.1190613217226, 'ymax': 41.99954022140406} │\n",
       "└──────────────┴────────────────────────────────────────────────────────────────────────────────────────────────────────────────┘"
      ]
     },
     "execution_count": 23,
     "metadata": {},
     "output_type": "execute_result"
    }
   ],
   "source": [
    "duckdb.sql(f\"SELECT feature_name, bbox FROM parquet_scan('{outpath}/ca_bbox.parquet')\")"
   ]
  }
 ],
 "metadata": {
  "kernelspec": {
   "display_name": "bigstac",
   "language": "python",
   "name": "python3"
  },
  "language_info": {
   "codemirror_mode": {
    "name": "ipython",
    "version": 3
   },
   "file_extension": ".py",
   "mimetype": "text/x-python",
   "name": "python",
   "nbconvert_exporter": "python",
   "pygments_lexer": "ipython3",
   "version": "3.12.3"
  }
 },
 "nbformat": 4,
 "nbformat_minor": 2
}
