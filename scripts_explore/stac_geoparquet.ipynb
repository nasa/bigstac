{
 "cells": [
  {
   "cell_type": "markdown",
   "metadata": {},
   "source": [
    "## Use `stac-geoparquet` to convert CMR STAC records to geoparquet\n",
    "Based on https://stac-utils.github.io/stac-geoparquet/latest/examples/naip/"
   ]
  },
  {
   "cell_type": "code",
   "execution_count": 1,
   "metadata": {},
   "outputs": [],
   "source": [
    "import json\n",
    "from pathlib import Path\n",
    "\n",
    "import pyarrow.parquet as pq\n",
    "import pystac_client\n",
    "import stac_geoparquet"
   ]
  },
  {
   "cell_type": "code",
   "execution_count": 2,
   "metadata": {},
   "outputs": [],
   "source": [
    "catalog = pystac_client.Client.open(\n",
    "    \"https://cmr.earthdata.nasa.gov/stac/LPCLOUD/\"\n",
    ")"
   ]
  },
  {
   "cell_type": "code",
   "execution_count": 3,
   "metadata": {},
   "outputs": [],
   "source": [
    "collection_shortname = \"MCD19A2_061\"\n",
    "file_basename = collection_shortname + \"_items\""
   ]
  },
  {
   "cell_type": "code",
   "execution_count": 4,
   "metadata": {},
   "outputs": [
    {
     "name": "stderr",
     "output_type": "stream",
     "text": [
      "/python3.12/site-packages/pystac_client/client.py:650: MissingLink: No link with rel='data' could be found on this Client.\n",
      "  href = self._get_href(\"data\", data_link, \"collections\")\n"
     ]
    }
   ],
   "source": [
    "max_items = 20\n",
    "items_iter = catalog.get_collection(collection_shortname).get_items()\n",
    "\n",
    "out_json_path = Path(file_basename + \".jsonl\")\n",
    "with open(out_json_path, \"w\") as f:\n",
    "    count = 0\n",
    "\n",
    "    for item in items_iter:\n",
    "        json.dump(item.to_dict(), f, separators=(\",\", \":\"))\n",
    "        f.write(\"\\n\")\n",
    "\n",
    "        count += 1\n",
    "        if count >= max_items:\n",
    "            break"
   ]
  },
  {
   "cell_type": "markdown",
   "metadata": {},
   "source": [
    "### Convert from STAC JSON to Arrow"
   ]
  },
  {
   "cell_type": "code",
   "execution_count": 5,
   "metadata": {},
   "outputs": [],
   "source": [
    "record_batch_reader = stac_geoparquet.arrow.parse_stac_ndjson_to_arrow(out_json_path)"
   ]
  },
  {
   "cell_type": "code",
   "execution_count": 6,
   "metadata": {
    "scrolled": true
   },
   "outputs": [],
   "source": [
    "table = record_batch_reader.read_all()"
   ]
  },
  {
   "cell_type": "code",
   "execution_count": 7,
   "metadata": {},
   "outputs": [
    {
     "name": "stdout",
     "output_type": "stream",
     "text": [
      "Arrow table shape:    (20, 13)\n",
      "Arrow table columns: \n",
      "   ['assets',\n",
      "   'bbox',\n",
      "   'collection',\n",
      "   'geometry',\n",
      "   'id',\n",
      "   'links',\n",
      "   'stac_extensions',\n",
      "   'stac_version',\n",
      "   'type',\n",
      "   'datetime',\n",
      "   'end_datetime',\n",
      "   'eo:cloud_cover',\n",
      "   'start_datetime']\n"
     ]
    }
   ],
   "source": [
    "print(\"Arrow table shape:   \", table.shape)\n",
    "print(\"Arrow table columns: \\n  \", str(table.column_names).replace(',', ',\\n  '))"
   ]
  },
  {
   "cell_type": "markdown",
   "metadata": {},
   "source": [
    "### Convert from Arrow to Geoparquet"
   ]
  },
  {
   "cell_type": "code",
   "execution_count": 8,
   "metadata": {},
   "outputs": [],
   "source": [
    "out_parquet_path = file_basename + \".parquet\"\n",
    "stac_geoparquet.arrow.parse_stac_ndjson_to_parquet(out_json_path, out_parquet_path)"
   ]
  },
  {
   "cell_type": "markdown",
   "metadata": {},
   "source": [
    "### Read it back in from Parquet format"
   ]
  },
  {
   "cell_type": "code",
   "execution_count": 9,
   "metadata": {},
   "outputs": [
    {
     "data": {
      "text/plain": [
       "pyarrow.lib.Table"
      ]
     },
     "execution_count": 9,
     "metadata": {},
     "output_type": "execute_result"
    }
   ],
   "source": [
    "pq_table = pq.read_table(out_parquet_path)\n",
    "type(pq_table)"
   ]
  },
  {
   "cell_type": "code",
   "execution_count": 10,
   "metadata": {},
   "outputs": [
    {
     "name": "stdout",
     "output_type": "stream",
     "text": [
      "Parquet table shape:    (20, 13)\n",
      "Parquet table columns: \n",
      "   ['assets',\n",
      "   'bbox',\n",
      "   'collection',\n",
      "   'geometry',\n",
      "   'id',\n",
      "   'links',\n",
      "   'stac_extensions',\n",
      "   'stac_version',\n",
      "   'type',\n",
      "   'datetime',\n",
      "   'end_datetime',\n",
      "   'eo:cloud_cover',\n",
      "   'start_datetime']\n"
     ]
    }
   ],
   "source": [
    "print(\"Parquet table shape:   \", pq_table.shape)\n",
    "print(\"Parquet table columns: \\n  \", str(pq_table.column_names).replace(',', ',\\n  '))"
   ]
  },
  {
   "cell_type": "markdown",
   "metadata": {},
   "source": [
    "Verify compliance with `gpq`"
   ]
  },
  {
   "cell_type": "code",
   "execution_count": 11,
   "metadata": {},
   "outputs": [
    {
     "name": "stdout",
     "output_type": "stream",
     "text": [
      "\n",
      "Summary: Passed 20 checks.\n",
      "\n",
      " ✓ file must include a \"geo\" metadata key\n",
      " ✓ metadata must be a JSON object\n",
      " ✓ metadata must include a \"version\" string\n",
      " ✓ metadata must include a \"primary_column\" string\n",
      " ✓ metadata must include a \"columns\" object\n",
      " ✓ column metadata must include the \"primary_column\" name\n",
      " ✓ column metadata must include a valid \"encoding\" string\n",
      " ✓ column metadata must include a \"geometry_types\" list\n",
      " ✓ optional \"crs\" must be null or a PROJJSON object\n",
      " ✓ optional \"orientation\" must be a valid string\n",
      " ✓ optional \"edges\" must be a valid string\n",
      " ✓ optional \"bbox\" must be an array of 4 or 6 numbers\n",
      " ✓ optional \"epoch\" must be a number\n",
      " ✓ geometry columns must not be grouped\n",
      " ✓ geometry columns must be stored using the BYTE_ARRAY parquet type\n",
      " ✓ geometry columns must be required or optional, not repeated\n",
      " ✓ all geometry values match the \"encoding\" metadata\n",
      " ✓ all geometry types must be included in the \"geometry_types\" metadata (if not empty)\n",
      " ✓ all polygon geometries must follow the \"orientation\" metadata (if present)\n",
      " ✓ all geometries must fall within the \"bbox\" metadata (if present)\n",
      "\n"
     ]
    }
   ],
   "source": [
    "%%bash -s \"$out_parquet_path\"\n",
    "gpq validate $1"
   ]
  },
  {
   "cell_type": "markdown",
   "metadata": {},
   "source": [
    "## Quick visualization of granule geometry\n",
    "\n",
    "`Lonboard` can visualize geoparquet files directly, but it so happens that these first granules span the antimeridian, so their plots are a mess."
   ]
  },
  {
   "cell_type": "code",
   "execution_count": 12,
   "metadata": {},
   "outputs": [
    {
     "data": {
      "application/vnd.jupyter.widget-view+json": {
       "model_id": "2a56c8ac4c744ea799266ce77fa26843",
       "version_major": 2,
       "version_minor": 1
      },
      "text/plain": [
       "Map(basemap_style=<CartoBasemap.DarkMatter: 'https://basemaps.cartocdn.com/gl/dark-matter-gl-style/style.json'…"
      ]
     },
     "execution_count": 12,
     "metadata": {},
     "output_type": "execute_result"
    }
   ],
   "source": [
    "import lonboard\n",
    "lonboard.viz(pq_table)"
   ]
  },
  {
   "cell_type": "markdown",
   "metadata": {},
   "source": [
    "### Antimeridian example fix\n",
    "This following is a quick fix for the first polygon of geoparquet table. This is only necessary for visualization: the antimeridian crossing observed in this example data does not indicate any corruption introduced by format conversion."
   ]
  },
  {
   "cell_type": "code",
   "execution_count": 13,
   "metadata": {},
   "outputs": [
    {
     "name": "stderr",
     "output_type": "stream",
     "text": [
      "/python3.12/site-packages/lonboard/_geoarrow/ops/reproject.py:23: UserWarning: No CRS exists on data. If no data is shown on the map, double check that your CRS is WGS84.\n",
      "  warn(\n"
     ]
    },
    {
     "data": {
      "application/vnd.jupyter.widget-view+json": {
       "model_id": "09a95275512a409fac936a24e28ec5a8",
       "version_major": 2,
       "version_minor": 1
      },
      "text/plain": [
       "Map(basemap_style=<CartoBasemap.DarkMatter: 'https://basemaps.cartocdn.com/gl/dark-matter-gl-style/style.json'…"
      ]
     },
     "execution_count": 14,
     "metadata": {},
     "output_type": "execute_result"
    }
   ],
   "source": [
    "from shapely import wkb, wkt\n",
    "import antimeridian\n",
    "granule_shape_0 = wkb.loads(pq_table.slice(0,1)['geometry'][0].as_py())\n",
    "granule_shape_0_fixed = antimeridian.fix_shape(granule_shape_0)\n",
    "lonboard.viz(granule_shape_0_fixed)"
   ]
  }
 ],
 "metadata": {
  "kernelspec": {
   "display_name": "Python 3 (ipykernel)",
   "language": "python",
   "name": "python3"
  },
  "language_info": {
   "codemirror_mode": {
    "name": "ipython",
    "version": 3
   },
   "file_extension": ".py",
   "mimetype": "text/x-python",
   "name": "python",
   "nbconvert_exporter": "python",
   "pygments_lexer": "ipython3",
   "version": "3.12.3"
  }
 },
 "nbformat": 4,
 "nbformat_minor": 4
}
