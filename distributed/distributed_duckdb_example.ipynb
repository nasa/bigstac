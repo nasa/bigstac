{
 "cells": [
  {
   "cell_type": "markdown",
   "metadata": {},
   "source": [
    "# Distributed DuckDB on Dask\n",
    "\n",
    "Set up a Dask cluster on EC2 to process data parallel DuckDB operations. The same query will be sent to every worker, with each worker querying different parquet files."
   ]
  },
  {
   "cell_type": "markdown",
   "metadata": {},
   "source": [
    "This notebook should run on a dedicated Jupyter notebook server, and will serve as the Dask **Client**. We will use the Dask Cloud Provider module to launch a cluster on EC2, which will be composed of a **Scheduler** instance and multiple **Worker** instances.\n",
    "\n",
    "The client (where this notebook is running) issues commands to the scheduler, and the scheduler distributes the work to the workers.\n",
    "\n",
    "The Dask web dashboard runs on the scheduler, not the client. To access it, a separate tunnel from your localhost to the scheduler on port 8787 could be created. This can be useful for understanding Dask scheduling and performance. "
   ]
  },
  {
   "cell_type": "code",
   "execution_count": 1,
   "metadata": {},
   "outputs": [],
   "source": [
    "import boto3\n",
    "from botocore.exceptions import ClientError\n",
    "import configparser\n",
    "import contextlib\n",
    "from dask_cloudprovider.aws import EC2Cluster\n",
    "from dask.distributed import Client\n",
    "import duckdb\n",
    "import os\n",
    "import pandas"
   ]
  },
  {
   "cell_type": "markdown",
   "metadata": {},
   "source": [
    "## Utility Functions"
   ]
  },
  {
   "cell_type": "code",
   "execution_count": 2,
   "metadata": {},
   "outputs": [],
   "source": [
    "# based on function of the same name from:\n",
    "# https://cloudprovider.dask.org/en/latest/aws.html#elastic-compute-cloud-ec2\n",
    "\n",
    "\n",
    "def get_aws_credentials(\n",
    "    profile, config_path=\"~/.aws/config\", creds_path=\"~/.aws/credentials\"\n",
    "):\n",
    "    \"\"\"Read in your AWS credentials file and convert to environment variables.\"\"\"\n",
    "    parser = configparser.RawConfigParser()\n",
    "\n",
    "    if config_path != \"\":\n",
    "        parser.read(os.path.expanduser())\n",
    "        config = parser.items(\"default\")\n",
    "    else:\n",
    "        config = []\n",
    "\n",
    "    if creds_path != \"\":\n",
    "        parser.read(os.path.expanduser(creds_path))\n",
    "        credentials = parser.items(profile)\n",
    "    else:\n",
    "        credentials = []\n",
    "\n",
    "    all_credentials = {key.upper(): value for key, value in [*config, *credentials]}\n",
    "    with contextlib.suppress(KeyError):\n",
    "        all_credentials[\"AWS_REGION\"] = all_credentials.pop(\"REGION\")\n",
    "\n",
    "    return all_credentials"
   ]
  },
  {
   "cell_type": "markdown",
   "metadata": {},
   "source": [
    "Functions to get the IDs of an EFS volume, Security Group, and VPC."
   ]
  },
  {
   "cell_type": "code",
   "execution_count": 3,
   "metadata": {},
   "outputs": [],
   "source": [
    "def get_efs_id_by_name(efs_name, session):\n",
    "    client = session.client(\"efs\", region_name=\"us-east-1\")\n",
    "\n",
    "    response = client.describe_file_systems()\n",
    "\n",
    "    for file_system in response[\"FileSystems\"]:\n",
    "        if \"Name\" in file_system and file_system[\"Name\"] == efs_name:\n",
    "            return file_system[\"FileSystemId\"]\n",
    "\n",
    "    return None\n",
    "\n",
    "\n",
    "def get_sg_id_by_name(sg_name, session, vpc_id):\n",
    "    client = session.client(\"ec2\")\n",
    "\n",
    "    response = client.describe_security_groups(\n",
    "        Filters=[\n",
    "            {\"Name\": \"group-name\", \"Values\": [sg_name]},\n",
    "            {\"Name\": \"vpc-id\", \"Values\": [vpc_id]},\n",
    "        ]\n",
    "    )\n",
    "\n",
    "    return response[\"SecurityGroups\"][0][\"GroupId\"]\n",
    "\n",
    "\n",
    "# For this particular account, there is not a 'default' VPC, which would\n",
    "# normally be used by Dask Cloud Provider. But there is a single VPC, so we get\n",
    "# it by the 0th index.\n",
    "def get_vpc_id(session):\n",
    "    client = session.client(\"ec2\")\n",
    "    vpc_id = client.describe_vpcs()[\"Vpcs\"][0][\"VpcId\"]\n",
    "    return vpc_id"
   ]
  },
  {
   "cell_type": "markdown",
   "metadata": {},
   "source": [
    "The security group used by the EFS volume needs a rule added that allows the instances Dask will create to use it."
   ]
  },
  {
   "cell_type": "code",
   "execution_count": 4,
   "metadata": {},
   "outputs": [],
   "source": [
    "def add_nfs_rule_to_security_group(\n",
    "    session, vpc_id, security_group_id, source_security_group_id, description\n",
    "):\n",
    "    \"\"\"\n",
    "    Add an inbound rule to allow NFS connections from a specified security group.\n",
    "\n",
    "    :param session: boto3 session\n",
    "    :param vpc_id: ID of the VPC\n",
    "    :param security_group_id: ID of the security group to modify\n",
    "    :param source_security_group_id: ID of the source security group\n",
    "    :param description: text description of inbound rule\n",
    "    \"\"\"\n",
    "    ec2 = session.client(\"ec2\")\n",
    "\n",
    "    try:\n",
    "        # Get the security group\n",
    "        response = ec2.describe_security_groups(\n",
    "            Filters=[\n",
    "                {\"Name\": \"vpc-id\", \"Values\": [vpc_id]},\n",
    "                {\"Name\": \"group-id\", \"Values\": [security_group_id]},\n",
    "            ]\n",
    "        )\n",
    "\n",
    "        if not response[\"SecurityGroups\"]:\n",
    "            print(f\"Security group {security_group_id} not found in VPC {vpc_id}\")\n",
    "            return\n",
    "\n",
    "        security_group = response[\"SecurityGroups\"][0]\n",
    "\n",
    "        # Check if the rule already exists\n",
    "        rule_exists = any(\n",
    "            rule.get(\"IpProtocol\") == \"tcp\"\n",
    "            and rule.get(\"FromPort\") == 2049\n",
    "            and rule.get(\"ToPort\") == 2049\n",
    "            and any(\n",
    "                pair.get(\"GroupId\") == source_security_group_id\n",
    "                and pair.get(\"Description\") == description\n",
    "                for pair in rule.get(\"UserIdGroupPairs\", [])\n",
    "            )\n",
    "            for rule in security_group.get(\"IpPermissions\", [])\n",
    "        )\n",
    "\n",
    "        if rule_exists:\n",
    "            print(\n",
    "                f\"NFS rule with description '{description}' already exists in security group {security_group_id}\"\n",
    "            )\n",
    "            return\n",
    "\n",
    "        # Add the inbound rule\n",
    "        ec2.authorize_security_group_ingress(\n",
    "            GroupId=security_group_id,\n",
    "            IpPermissions=[\n",
    "                {\n",
    "                    \"IpProtocol\": \"tcp\",\n",
    "                    \"FromPort\": 2049,\n",
    "                    \"ToPort\": 2049,\n",
    "                    \"UserIdGroupPairs\": [\n",
    "                        {\n",
    "                            \"GroupId\": source_security_group_id,\n",
    "                            \"Description\": description,\n",
    "                        }\n",
    "                    ],\n",
    "                }\n",
    "            ],\n",
    "        )\n",
    "\n",
    "        print(f\"Added NFS inbound rule to security group {security_group_id}\")\n",
    "\n",
    "    except ClientError as e:\n",
    "        if e.response[\"Error\"][\"Code\"] == \"InvalidPermission.Duplicate\":\n",
    "            print(\n",
    "                f\"NFS rule for cluster access already exists in EFS security group {security_group_id}, but with a different description. Did not add new rule.\"\n",
    "            )\n",
    "        else:\n",
    "            print(f\"Error: {e}\")"
   ]
  },
  {
   "cell_type": "markdown",
   "metadata": {},
   "source": [
    "## Global Parameters"
   ]
  },
  {
   "cell_type": "code",
   "execution_count": 5,
   "metadata": {},
   "outputs": [],
   "source": [
    "aws_profile_name = \"cmr-sit-johnathan\"  # change to your profile name\n",
    "efs_name = \"bigstac-duckdb-01\"  # pre-created\n",
    "sg_name_efs = \"bigstac-nfs\"  # pre-created\n",
    "sg_name_dask = \"bigstac-dask\"  # specified in cdk_dask_sg.py\n",
    "ssh_key_name = \"bigstac-johnathan\"  # pre-created"
   ]
  },
  {
   "cell_type": "markdown",
   "metadata": {},
   "source": [
    "## Get Credentials"
   ]
  },
  {
   "cell_type": "markdown",
   "metadata": {},
   "source": [
    "Credentials should be placed in `~/.aws/credentials`. Recommend the use of short term keys.  \n",
    "You can use Jupyterlab to open a terminal, create the file and paste your credentials into it.  \n",
    "Set `aws_profile_name` above to the value of your profile stored in the credentials file.  "
   ]
  },
  {
   "cell_type": "code",
   "execution_count": 6,
   "metadata": {},
   "outputs": [],
   "source": [
    "creds = get_aws_credentials(aws_profile_name, \"\")\n",
    "# Create boto3 session for functions that will accept it\n",
    "session = boto3.Session(\n",
    "    region_name=\"us-east-1\",\n",
    "    aws_access_key_id=creds[\"AWS_ACCESS_KEY_ID\"],\n",
    "    aws_secret_access_key=creds[\"AWS_SECRET_ACCESS_KEY\"],\n",
    "    aws_session_token=creds[\"AWS_SESSION_TOKEN\"],\n",
    ")\n",
    "\n",
    "# Launching the EC2Cluster relies on instance profile permissions, credentials\n",
    "# in the \"default\" profile, or environment variables. We'll use the latter:\n",
    "os.environ[\"AWS_ACCESS_KEY_ID\"] = creds[\"AWS_ACCESS_KEY_ID\"]\n",
    "os.environ[\"AWS_SECRET_ACCESS_KEY\"] = creds[\"AWS_SECRET_ACCESS_KEY\"]\n",
    "os.environ[\"AWS_SESSION_TOKEN\"] = creds[\"AWS_SESSION_TOKEN\"]\n",
    "os.environ[\"AWS_REGION\"] = creds[\"AWS_REGION\"]"
   ]
  },
  {
   "cell_type": "markdown",
   "metadata": {},
   "source": [
    "## Start Cluster"
   ]
  },
  {
   "cell_type": "markdown",
   "metadata": {},
   "source": [
    "Get resource IDs from our AWS account"
   ]
  },
  {
   "cell_type": "code",
   "execution_count": 7,
   "metadata": {},
   "outputs": [],
   "source": [
    "vpc_id = get_vpc_id(session)\n",
    "efs_id = get_efs_id_by_name(efs_name, session)\n",
    "nfs_sg_id = get_sg_id_by_name(sg_name_efs, session, vpc_id)\n",
    "cluster_sg_id = get_sg_id_by_name(sg_name_dask, session, vpc_id)"
   ]
  },
  {
   "cell_type": "markdown",
   "metadata": {},
   "source": [
    "Create a rule that allows the Dask instances to mount the EFS volume"
   ]
  },
  {
   "cell_type": "code",
   "execution_count": 8,
   "metadata": {},
   "outputs": [
    {
     "name": "stdout",
     "output_type": "stream",
     "text": [
      "Added NFS inbound rule to security group sg-\n"
     ]
    }
   ],
   "source": [
    "rule_description = \"from Dask EC2Cluster\"\n",
    "add_nfs_rule_to_security_group(\n",
    "    session, vpc_id, nfs_sg_id, cluster_sg_id, rule_description\n",
    ")"
   ]
  },
  {
   "cell_type": "markdown",
   "metadata": {},
   "source": [
    "Configure the Dask-managed instances to mount the EFS volume. These additional bootstrapping commands will be run by cloud-init after the default commands created by Dask Cloud Provider."
   ]
  },
  {
   "cell_type": "code",
   "execution_count": 9,
   "metadata": {},
   "outputs": [],
   "source": [
    "bootstrap_script = [\n",
    "    \"mkdir -p /mnt/efs\",\n",
    "    \"apt-get install nfs-common -y\",\n",
    "    f\"mount -t nfs4 -o nfsvers=4.1,rsize=1048576,wsize=1048576,hard,timeo=600,retrans=2,noresvport {efs_id}.efs.us-east-1.amazonaws.com:/ /mnt/efs\",\n",
    "]"
   ]
  },
  {
   "cell_type": "markdown",
   "metadata": {},
   "source": [
    "Bind mount the EFS volume into the Docker container that will run the Dask scheduler and workers. Also install some extra necessary packages with `pip`."
   ]
  },
  {
   "cell_type": "code",
   "execution_count": 10,
   "metadata": {},
   "outputs": [],
   "source": [
    "docker_args = (\n",
    "    \"--mount type=bind,src=/mnt/efs,dst=/mnt/efs,ro \"\n",
    "    '-e EXTRA_PIP_PACKAGES=\"duckdb pyarrow\"'\n",
    ")"
   ]
  },
  {
   "cell_type": "markdown",
   "metadata": {},
   "source": [
    "Start the cluster. This will take a couple of minutes."
   ]
  },
  {
   "cell_type": "code",
   "execution_count": 11,
   "metadata": {
    "scrolled": true
   },
   "outputs": [
    {
     "name": "stdout",
     "output_type": "stream",
     "text": [
      "Creating scheduler instance\n",
      "Created instance i-0d190df1b812ce655 as dask-eda6680f-scheduler\n",
      "Waiting for scheduler to run at 10.5.45.35:8786\n",
      "Scheduler is running\n",
      "Creating worker instance\n",
      "Creating worker instance\n"
     ]
    },
    {
     "name": "stderr",
     "output_type": "stream",
     "text": [
      "/home/ssm-user/.pyenv/versions/3.10.12/lib/python3.10/contextlib.py:142: UserWarning: Creating your cluster is taking a surprisingly long time. This is likely due to pending resources. Hang tight! \n",
      "  next(self.gen)\n"
     ]
    },
    {
     "name": "stdout",
     "output_type": "stream",
     "text": [
      "Created instance i-015d9a6692c3c8a47 as dask-eda6680f-worker-b8542521\n",
      "Created instance i-08a9996da6e441243 as dask-eda6680f-worker-3802ecce\n"
     ]
    }
   ],
   "source": [
    "cluster = EC2Cluster(\n",
    "    n_workers=2,\n",
    "    scheduler_instance_type=\"c5.xlarge\",\n",
    "    worker_instance_type=\"c5.xlarge\",\n",
    "    # One thread per worker ensures tasks get split across multiple workers\n",
    "    worker_options={\"nthreads\": 1, \"memory_limit\": \"7GiB\"},\n",
    "    # debug=True,\n",
    "    key_name=ssh_key_name,\n",
    "    region=creds[\"AWS_REGION\"],\n",
    "    vpc=vpc_id,\n",
    "    security_groups=[cluster_sg_id],\n",
    "    extra_bootstrap=bootstrap_script,\n",
    "    docker_args=docker_args,\n",
    "    # Default expects public IPs\n",
    "    use_private_ip=True,\n",
    "    # TLS doesn't currently work: https://github.com/dask/dask-cloudprovider/issues/249\n",
    "    security=False,\n",
    ")"
   ]
  },
  {
   "cell_type": "code",
   "execution_count": 13,
   "metadata": {},
   "outputs": [
    {
     "data": {
      "text/html": [
       "<div class=\"jp-RenderedHTMLCommon jp-RenderedHTML jp-mod-trusted jp-OutputArea-output\">\n",
       "    <div style=\"width: 24px; height: 24px; background-color: #e1e1e1; border: 3px solid #9D9D9D; border-radius: 5px; position: absolute;\">\n",
       "    </div>\n",
       "    <div style=\"margin-left: 48px;\">\n",
       "        <h3 style=\"margin-bottom: 0px; margin-top: 0px;\">EC2Cluster</h3>\n",
       "        <p style=\"color: #9D9D9D; margin-bottom: 0px;\">83565f96</p>\n",
       "        <table style=\"width: 100%; text-align: left;\">\n",
       "            <tr>\n",
       "                <td style=\"text-align: left;\">\n",
       "                    <strong>Dashboard:</strong> <a href=\"http://10.5.45.35:8787/status\" target=\"_blank\">http://10.5.45.35:8787/status</a>\n",
       "                </td>\n",
       "                <td style=\"text-align: left;\">\n",
       "                    <strong>Workers:</strong> 2\n",
       "                </td>\n",
       "            </tr>\n",
       "            <tr>\n",
       "                <td style=\"text-align: left;\">\n",
       "                    <strong>Total threads:</strong> 2\n",
       "                </td>\n",
       "                <td style=\"text-align: left;\">\n",
       "                    <strong>Total memory:</strong> 14.00 GiB\n",
       "                </td>\n",
       "            </tr>\n",
       "            \n",
       "        </table>\n",
       "\n",
       "        <details>\n",
       "            <summary style=\"margin-bottom: 20px;\">\n",
       "                <h3 style=\"display: inline;\">Scheduler Info</h3>\n",
       "            </summary>\n",
       "\n",
       "            <div style=\"\">\n",
       "    <div>\n",
       "        <div style=\"width: 24px; height: 24px; background-color: #FFF7E5; border: 3px solid #FF6132; border-radius: 5px; position: absolute;\"> </div>\n",
       "        <div style=\"margin-left: 48px;\">\n",
       "            <h3 style=\"margin-bottom: 0px;\">Scheduler</h3>\n",
       "            <p style=\"color: #9D9D9D; margin-bottom: 0px;\">Scheduler-4d707b44-9637-420c-872d-d1ef69c5db18</p>\n",
       "            <table style=\"width: 100%; text-align: left;\">\n",
       "                <tr>\n",
       "                    <td style=\"text-align: left;\">\n",
       "                        <strong>Comm:</strong> tcp://10.5.45.35:8786\n",
       "                    </td>\n",
       "                    <td style=\"text-align: left;\">\n",
       "                        <strong>Workers:</strong> 2\n",
       "                    </td>\n",
       "                </tr>\n",
       "                <tr>\n",
       "                    <td style=\"text-align: left;\">\n",
       "                        <strong>Dashboard:</strong> <a href=\"http://10.5.45.35:8787/status\" target=\"_blank\">http://10.5.45.35:8787/status</a>\n",
       "                    </td>\n",
       "                    <td style=\"text-align: left;\">\n",
       "                        <strong>Total threads:</strong> 2\n",
       "                    </td>\n",
       "                </tr>\n",
       "                <tr>\n",
       "                    <td style=\"text-align: left;\">\n",
       "                        <strong>Started:</strong> 1 minute ago\n",
       "                    </td>\n",
       "                    <td style=\"text-align: left;\">\n",
       "                        <strong>Total memory:</strong> 14.00 GiB\n",
       "                    </td>\n",
       "                </tr>\n",
       "            </table>\n",
       "        </div>\n",
       "    </div>\n",
       "\n",
       "    <details style=\"margin-left: 48px;\">\n",
       "        <summary style=\"margin-bottom: 20px;\">\n",
       "            <h3 style=\"display: inline;\">Workers</h3>\n",
       "        </summary>\n",
       "\n",
       "        \n",
       "        <div style=\"margin-bottom: 20px;\">\n",
       "            <div style=\"width: 24px; height: 24px; background-color: #DBF5FF; border: 3px solid #4CC9FF; border-radius: 5px; position: absolute;\"> </div>\n",
       "            <div style=\"margin-left: 48px;\">\n",
       "            <details>\n",
       "                <summary>\n",
       "                    <h4 style=\"margin-bottom: 0px; display: inline;\">Worker: dask-eda6680f-worker-3802ecce</h4>\n",
       "                </summary>\n",
       "                <table style=\"width: 100%; text-align: left;\">\n",
       "                    <tr>\n",
       "                        <td style=\"text-align: left;\">\n",
       "                            <strong>Comm: </strong> tcp://10.5.44.194:33113\n",
       "                        </td>\n",
       "                        <td style=\"text-align: left;\">\n",
       "                            <strong>Total threads: </strong> 1\n",
       "                        </td>\n",
       "                    </tr>\n",
       "                    <tr>\n",
       "                        <td style=\"text-align: left;\">\n",
       "                            <strong>Dashboard: </strong> <a href=\"http://10.5.44.194:37081/status\" target=\"_blank\">http://10.5.44.194:37081/status</a>\n",
       "                        </td>\n",
       "                        <td style=\"text-align: left;\">\n",
       "                            <strong>Memory: </strong> 7.00 GiB\n",
       "                        </td>\n",
       "                    </tr>\n",
       "                    <tr>\n",
       "                        <td style=\"text-align: left;\">\n",
       "                            <strong>Nanny: </strong> tcp://10.5.44.194:34827\n",
       "                        </td>\n",
       "                        <td style=\"text-align: left;\"></td>\n",
       "                    </tr>\n",
       "                    <tr>\n",
       "                        <td colspan=\"2\" style=\"text-align: left;\">\n",
       "                            <strong>Local directory: </strong> /tmp/dask-scratch-space/worker-cfusj0ml\n",
       "                        </td>\n",
       "                    </tr>\n",
       "\n",
       "                    \n",
       "\n",
       "                    \n",
       "\n",
       "                </table>\n",
       "            </details>\n",
       "            </div>\n",
       "        </div>\n",
       "        \n",
       "        <div style=\"margin-bottom: 20px;\">\n",
       "            <div style=\"width: 24px; height: 24px; background-color: #DBF5FF; border: 3px solid #4CC9FF; border-radius: 5px; position: absolute;\"> </div>\n",
       "            <div style=\"margin-left: 48px;\">\n",
       "            <details>\n",
       "                <summary>\n",
       "                    <h4 style=\"margin-bottom: 0px; display: inline;\">Worker: dask-eda6680f-worker-b8542521</h4>\n",
       "                </summary>\n",
       "                <table style=\"width: 100%; text-align: left;\">\n",
       "                    <tr>\n",
       "                        <td style=\"text-align: left;\">\n",
       "                            <strong>Comm: </strong> tcp://10.5.46.251:38885\n",
       "                        </td>\n",
       "                        <td style=\"text-align: left;\">\n",
       "                            <strong>Total threads: </strong> 1\n",
       "                        </td>\n",
       "                    </tr>\n",
       "                    <tr>\n",
       "                        <td style=\"text-align: left;\">\n",
       "                            <strong>Dashboard: </strong> <a href=\"http://10.5.46.251:38323/status\" target=\"_blank\">http://10.5.46.251:38323/status</a>\n",
       "                        </td>\n",
       "                        <td style=\"text-align: left;\">\n",
       "                            <strong>Memory: </strong> 7.00 GiB\n",
       "                        </td>\n",
       "                    </tr>\n",
       "                    <tr>\n",
       "                        <td style=\"text-align: left;\">\n",
       "                            <strong>Nanny: </strong> tcp://10.5.46.251:41597\n",
       "                        </td>\n",
       "                        <td style=\"text-align: left;\"></td>\n",
       "                    </tr>\n",
       "                    <tr>\n",
       "                        <td colspan=\"2\" style=\"text-align: left;\">\n",
       "                            <strong>Local directory: </strong> /tmp/dask-scratch-space/worker-b_yovnqg\n",
       "                        </td>\n",
       "                    </tr>\n",
       "\n",
       "                    \n",
       "\n",
       "                    \n",
       "\n",
       "                </table>\n",
       "            </details>\n",
       "            </div>\n",
       "        </div>\n",
       "        \n",
       "\n",
       "    </details>\n",
       "</div>\n",
       "\n",
       "        </details>\n",
       "    </div>\n",
       "</div>"
      ],
      "text/plain": [
       "EC2Cluster(83565f96, 'tcp://10.5.45.35:8786', workers=2, threads=2, memory=14.00 GiB)"
      ]
     },
     "metadata": {},
     "output_type": "display_data"
    }
   ],
   "source": [
    "cluster"
   ]
  },
  {
   "cell_type": "markdown",
   "metadata": {},
   "source": [
    "## Prepare DuckDB Query"
   ]
  },
  {
   "cell_type": "markdown",
   "metadata": {},
   "source": [
    "Below we create a function that will executes a DuckDB query. Each worker will run the same query, but receive a different paruqet file to query. This query filters by the bounding box of California, a temporal condition, and specifies a sort order. We limit the results to the first 2000, which is the upper limit for the current CMR API."
   ]
  },
  {
   "cell_type": "code",
   "execution_count": 16,
   "metadata": {},
   "outputs": [],
   "source": [
    "def ddb_worker_func(filename):\n",
    "    df = duckdb.query(\n",
    "        (\n",
    "            f\"SELECT GranuleUR FROM read_parquet('{filename}') \"\n",
    "            \"WHERE (-124.409202 <= MBREast AND -114.119061 >= MBRWest AND \"\n",
    "            \"32.531669 <= MBRNorth AND 41.99954 >= MBRSouth) \"\n",
    "            \"ORDER BY GranuleUR LIMIT 2000\"\n",
    "        )\n",
    "    ).df()\n",
    "    return df"
   ]
  },
  {
   "cell_type": "markdown",
   "metadata": {},
   "source": [
    "Provide the workers a list of input files"
   ]
  },
  {
   "cell_type": "code",
   "execution_count": 17,
   "metadata": {},
   "outputs": [],
   "source": [
    "ddb_inputs = [\"/mnt/efs/17m_set1.parquet\", \"/mnt/efs/17m_set2.parquet\"]"
   ]
  },
  {
   "cell_type": "markdown",
   "metadata": {},
   "source": [
    "## Run Query on Dask Cluster"
   ]
  },
  {
   "cell_type": "code",
   "execution_count": 18,
   "metadata": {},
   "outputs": [
    {
     "name": "stderr",
     "output_type": "stream",
     "text": [
      "/home/ssm-user/.pyenv/versions/3.10.12/envs/jupyter3.10/lib/python3.10/site-packages/distributed/client.py:1612: VersionMismatchWarning: Mismatched versions found\n",
      "\n",
      "+---------+--------+-----------+---------+\n",
      "| Package | Client | Scheduler | Workers |\n",
      "+---------+--------+-----------+---------+\n",
      "| lz4     | 4.4.3  | 4.3.3     | 4.3.3   |\n",
      "| toolz   | 1.0.0  | 0.12.0    | 0.12.0  |\n",
      "+---------+--------+-----------+---------+\n",
      "  warnings.warn(version_module.VersionMismatchWarning(msg[0][\"warning\"]))\n"
     ]
    }
   ],
   "source": [
    "client = cluster.get_client()"
   ]
  },
  {
   "cell_type": "code",
   "execution_count": 19,
   "metadata": {},
   "outputs": [
    {
     "name": "stdout",
     "output_type": "stream",
     "text": [
      "CPU times: user 8.86 ms, sys: 596 μs, total: 9.46 ms\n",
      "Wall time: 1.94 s\n"
     ]
    }
   ],
   "source": [
    "%%time\n",
    "the_future = client.map(ddb_worker_func, ddb_inputs)\n",
    "results = client.gather(the_future)"
   ]
  },
  {
   "cell_type": "markdown",
   "metadata": {},
   "source": [
    "## Run Same Query on Notebook Server\n",
    "\n",
    "For this run, the Jupyter server is the same instance type as the Dask workers: `c5.xlarge`. They have 4 vCPUs and 8 GB of RAM.\n",
    "\n",
    "Instead of two files, it will read the same data from a single file."
   ]
  },
  {
   "cell_type": "code",
   "execution_count": 20,
   "metadata": {},
   "outputs": [],
   "source": [
    "single_17m_file = \"~/efs/StartTime_17m.parquet\""
   ]
  },
  {
   "cell_type": "code",
   "execution_count": 23,
   "metadata": {},
   "outputs": [
    {
     "name": "stdout",
     "output_type": "stream",
     "text": [
      "CPU times: user 3.29 s, sys: 400 ms, total: 3.69 s\n",
      "Wall time: 3.08 s\n"
     ]
    }
   ],
   "source": [
    "%%time\n",
    "notebook_result = duckdb.query(\n",
    "    (\n",
    "        f\"SELECT GranuleUR FROM read_parquet('{single_17m_file}') \"\n",
    "        \"WHERE (-124.409202 <= MBREast AND -114.119061 >= MBRWest AND \"\n",
    "        \"32.531669 <= MBRNorth AND 41.99954 >= MBRSouth) \"\n",
    "        \"ORDER BY GranuleUR LIMIT 2000\"\n",
    "    )\n",
    ").df()"
   ]
  },
  {
   "cell_type": "markdown",
   "metadata": {},
   "source": [
    "## Shut Down Cluster"
   ]
  },
  {
   "cell_type": "code",
   "execution_count": 24,
   "metadata": {},
   "outputs": [
    {
     "name": "stdout",
     "output_type": "stream",
     "text": [
      "Terminated dask-eda6680f-worker-b8542521 (i-015d9a6692c3c8a47)\n",
      "Terminated dask-eda6680f-worker-3802ecce (i-08a9996da6e441243)\n",
      "Terminated dask-eda6680f-scheduler (i-0d190df1b812ce655)\n"
     ]
    }
   ],
   "source": [
    "client.shutdown()\n",
    "client.close()"
   ]
  }
 ],
 "metadata": {
  "kernelspec": {
   "display_name": "Python 3 (ipykernel)",
   "language": "python",
   "name": "python3"
  },
  "language_info": {
   "codemirror_mode": {
    "name": "ipython",
    "version": 3
   },
   "file_extension": ".py",
   "mimetype": "text/x-python",
   "name": "python",
   "nbconvert_exporter": "python",
   "pygments_lexer": "ipython3",
   "version": "3.10.12"
  }
 },
 "nbformat": 4,
 "nbformat_minor": 4
}
